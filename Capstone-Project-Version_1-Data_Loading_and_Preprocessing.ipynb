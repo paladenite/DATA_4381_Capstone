{
 "cells": [
  {
   "cell_type": "markdown",
   "id": "5c8e3a82",
   "metadata": {},
   "source": [
    "# <center>**Capstone Project: Climate Impact and Prediction Modeling**</center> #\n",
    "    "
   ]
  },
  {
   "cell_type": "markdown",
   "id": "d59fb00f",
   "metadata": {},
   "source": [
    "## <center>Data Loading and Preprocessing</center>"
   ]
  },
  {
   "cell_type": "markdown",
   "id": "806fb945",
   "metadata": {},
   "source": [
    "### <center>Introduction</center> ###\n",
    "In this notebook we will go over the necessary data being used in this current version of the project and a step by step description will be provided as we go along."
   ]
  },
  {
   "cell_type": "markdown",
   "id": "2dffd7b5",
   "metadata": {},
   "source": [
    "### <center>Imported Modules</center> ###\n",
    "Here we will import all necessary supporting modules that we will need through out the notebook."
   ]
  },
  {
   "cell_type": "code",
   "execution_count": 1,
   "id": "04bdb234",
   "metadata": {},
   "outputs": [],
   "source": [
    "import pandas as pd\n",
    "import math as math\n",
    "import numpy as np\n",
    "import matplotlib.pyplot as plt\n",
    "import os\n",
    "import re"
   ]
  },
  {
   "cell_type": "markdown",
   "id": "136399c6",
   "metadata": {},
   "source": [
    "### <center>Imported Data</center> ###\n",
    "Here we will import all our data so we can view it, preprocess it, and clean it.\n",
    "\n",
    "The references for all the data will be provided at the bottom."
   ]
  },
  {
   "cell_type": "code",
   "execution_count": 2,
   "id": "35d3f277",
   "metadata": {},
   "outputs": [],
   "source": [
    "world_temp = pd.read_csv(\"global-temperature-anomalies-by-month.csv\")\n",
    "Global_warming_by_gas_and_source = pd.read_csv(\"global-warming-by-gas-and-source.csv\")\n",
    "Global_warming_by_fossil = pd.read_csv(\"global-warming-fossil.csv\")\n",
    "CO2_Emissions_by_Country = pd.read_csv(\"annual-co2-emissions-per-country.csv\")\n",
    "CO2_Emissions_per_capita = pd.read_csv(\"co-emissions-per-capita.csv\")\n",
    "GHG_per_capita = pd.read_csv(\"per-capita-ghg-emissions.csv\")\n",
    "methane_per_capita = pd.read_csv(\"per-capita-methane-emissions.csv\")\n",
    "nitrous_oxide_per_capita = pd.read_csv(\"per-capita-nitrous-oxide.csv\")\n",
    "Countries_By_Income_Classification = pd.read_csv(\"countries-by-income-classification.csv\")\n",
    "GDPPC_maddison = pd.read_csv(\"gdp-per-capita-maddison.csv\")\n",
    "GDPPC_worldbank = pd.read_csv(\"gdp-per-capita-worldbank.csv\")\n",
    "GDPPC_penn = pd.read_csv(\"gdp-per-capita-penn-world-table.csv\")\n",
    "Population = pd.read_csv(\"population-and-demography.csv\")\n",
    "Land_Usage = pd.read_csv(\"land-use-over-the-long-term.csv\")"
   ]
  },
  {
   "cell_type": "markdown",
   "id": "655958f8",
   "metadata": {
    "jp-MarkdownHeadingCollapsed": true
   },
   "source": [
    "From here the data will be sorted into two seperate groups:\n",
    "##### Global Warming: #####\n",
    "- Gas Emissions\n",
    "- Global Temperatures\n",
    "\n",
    "##### Economic Development: #####\n",
    "- Regional or Country Specific Economic Growth\n",
    "- Population changes\n",
    "- Land Usage"
   ]
  },
  {
   "cell_type": "markdown",
   "id": "332c1be4",
   "metadata": {
    "jp-MarkdownHeadingCollapsed": true
   },
   "source": [
    "### <center> Global Warming Data</center> ###\n",
    "Here the global warming data will be explored one by one. Do note that from my investigation into these data sets null data values are not summable."
   ]
  },
  {
   "cell_type": "markdown",
   "id": "db82d3cf-f181-457e-9278-356bd2db7fb6",
   "metadata": {},
   "source": [
    "##### <center> World Temperatures Records from 1940 to 2024 </center> #####"
   ]
  },
  {
   "cell_type": "code",
   "execution_count": 3,
   "id": "c98ce71d",
   "metadata": {},
   "outputs": [
    {
     "data": {
      "text/html": [
       "<div>\n",
       "<style scoped>\n",
       "    .dataframe tbody tr th:only-of-type {\n",
       "        vertical-align: middle;\n",
       "    }\n",
       "\n",
       "    .dataframe tbody tr th {\n",
       "        vertical-align: top;\n",
       "    }\n",
       "\n",
       "    .dataframe thead th {\n",
       "        text-align: right;\n",
       "    }\n",
       "</style>\n",
       "<table border=\"1\" class=\"dataframe\">\n",
       "  <thead>\n",
       "    <tr style=\"text-align: right;\">\n",
       "      <th></th>\n",
       "      <th>Code</th>\n",
       "      <th>Year</th>\n",
       "      <th>Temperature anomaly</th>\n",
       "    </tr>\n",
       "  </thead>\n",
       "  <tbody>\n",
       "    <tr>\n",
       "      <th>count</th>\n",
       "      <td>0.0</td>\n",
       "      <td>1016.000000</td>\n",
       "      <td>1016.000000</td>\n",
       "    </tr>\n",
       "    <tr>\n",
       "      <th>mean</th>\n",
       "      <td>NaN</td>\n",
       "      <td>1981.834646</td>\n",
       "      <td>-0.330755</td>\n",
       "    </tr>\n",
       "    <tr>\n",
       "      <th>std</th>\n",
       "      <td>NaN</td>\n",
       "      <td>24.453761</td>\n",
       "      <td>0.387380</td>\n",
       "    </tr>\n",
       "    <tr>\n",
       "      <th>min</th>\n",
       "      <td>NaN</td>\n",
       "      <td>1940.000000</td>\n",
       "      <td>-1.060034</td>\n",
       "    </tr>\n",
       "    <tr>\n",
       "      <th>25%</th>\n",
       "      <td>NaN</td>\n",
       "      <td>1961.000000</td>\n",
       "      <td>-0.636508</td>\n",
       "    </tr>\n",
       "    <tr>\n",
       "      <th>50%</th>\n",
       "      <td>NaN</td>\n",
       "      <td>1982.000000</td>\n",
       "      <td>-0.427380</td>\n",
       "    </tr>\n",
       "    <tr>\n",
       "      <th>75%</th>\n",
       "      <td>NaN</td>\n",
       "      <td>2003.000000</td>\n",
       "      <td>-0.047876</td>\n",
       "    </tr>\n",
       "    <tr>\n",
       "      <th>max</th>\n",
       "      <td>NaN</td>\n",
       "      <td>2024.000000</td>\n",
       "      <td>0.930606</td>\n",
       "    </tr>\n",
       "  </tbody>\n",
       "</table>\n",
       "</div>"
      ],
      "text/plain": [
       "       Code         Year  Temperature anomaly\n",
       "count   0.0  1016.000000          1016.000000\n",
       "mean    NaN  1981.834646            -0.330755\n",
       "std     NaN    24.453761             0.387380\n",
       "min     NaN  1940.000000            -1.060034\n",
       "25%     NaN  1961.000000            -0.636508\n",
       "50%     NaN  1982.000000            -0.427380\n",
       "75%     NaN  2003.000000            -0.047876\n",
       "max     NaN  2024.000000             0.930606"
      ]
     },
     "execution_count": 3,
     "metadata": {},
     "output_type": "execute_result"
    }
   ],
   "source": [
    "world_temp.describe()"
   ]
  },
  {
   "cell_type": "markdown",
   "id": "6a8d3e67",
   "metadata": {},
   "source": [
    "The range of this data goes from 1940 to 2024 in a monthly increment."
   ]
  },
  {
   "cell_type": "code",
   "execution_count": 4,
   "id": "05f65221",
   "metadata": {},
   "outputs": [
    {
     "data": {
      "text/plain": [
       "Entity                    0\n",
       "Code                   1016\n",
       "Year                      0\n",
       "Temperature anomaly       0\n",
       "dtype: int64"
      ]
     },
     "execution_count": 4,
     "metadata": {},
     "output_type": "execute_result"
    }
   ],
   "source": [
    "world_temp.isnull().sum()"
   ]
  },
  {
   "cell_type": "markdown",
   "id": "847ac947",
   "metadata": {},
   "source": [
    "Code here can be ignored since this is a placeholder column, meaning the data is 100% here with no missing values."
   ]
  },
  {
   "cell_type": "markdown",
   "id": "837bdcd1-6a9e-44d2-a2a5-f3271f9571e9",
   "metadata": {},
   "source": [
    "##### <center> Emissions and thier contributions to global warming from 1936 to 2022 </center> #####"
   ]
  },
  {
   "cell_type": "code",
   "execution_count": 5,
   "id": "09cde165",
   "metadata": {},
   "outputs": [
    {
     "data": {
      "text/html": [
       "<div>\n",
       "<style scoped>\n",
       "    .dataframe tbody tr th:only-of-type {\n",
       "        vertical-align: middle;\n",
       "    }\n",
       "\n",
       "    .dataframe tbody tr th {\n",
       "        vertical-align: top;\n",
       "    }\n",
       "\n",
       "    .dataframe thead th {\n",
       "        text-align: right;\n",
       "    }\n",
       "</style>\n",
       "<table border=\"1\" class=\"dataframe\">\n",
       "  <thead>\n",
       "    <tr style=\"text-align: right;\">\n",
       "      <th></th>\n",
       "      <th>Year</th>\n",
       "      <th>Change in global mean surface temperature caused by nitrous oxide emissions from fossil fuels and industry</th>\n",
       "      <th>Change in global mean surface temperature caused by nitrous oxide emissions from agriculture and land use</th>\n",
       "      <th>Change in global mean surface temperature caused by methane emissions from fossil fuels and industry</th>\n",
       "      <th>Change in global mean surface temperature caused by methane emissions from agriculture and land use</th>\n",
       "      <th>Change in global mean surface temperature caused by CO₂ emissions from fossil fuels and industry</th>\n",
       "      <th>Change in global mean surface temperature caused by CO₂ emissions from agriculture and land use</th>\n",
       "    </tr>\n",
       "  </thead>\n",
       "  <tbody>\n",
       "    <tr>\n",
       "      <th>count</th>\n",
       "      <td>41280.000000</td>\n",
       "      <td>3.784000e+04</td>\n",
       "      <td>3.715200e+04</td>\n",
       "      <td>37840.000000</td>\n",
       "      <td>36980.000000</td>\n",
       "      <td>4.093600e+04</td>\n",
       "      <td>36636.000000</td>\n",
       "    </tr>\n",
       "    <tr>\n",
       "      <th>mean</th>\n",
       "      <td>1936.500000</td>\n",
       "      <td>1.523874e-04</td>\n",
       "      <td>3.774921e-04</td>\n",
       "      <td>0.001684</td>\n",
       "      <td>0.001380</td>\n",
       "      <td>4.010030e-03</td>\n",
       "      <td>0.003863</td>\n",
       "    </tr>\n",
       "    <tr>\n",
       "      <th>std</th>\n",
       "      <td>49.651885</td>\n",
       "      <td>9.112282e-04</td>\n",
       "      <td>2.055087e-03</td>\n",
       "      <td>0.009604</td>\n",
       "      <td>0.006900</td>\n",
       "      <td>2.744131e-02</td>\n",
       "      <td>0.017857</td>\n",
       "    </tr>\n",
       "    <tr>\n",
       "      <th>min</th>\n",
       "      <td>1851.000000</td>\n",
       "      <td>0.000000e+00</td>\n",
       "      <td>0.000000e+00</td>\n",
       "      <td>0.000000</td>\n",
       "      <td>-0.000693</td>\n",
       "      <td>0.000000e+00</td>\n",
       "      <td>-0.001109</td>\n",
       "    </tr>\n",
       "    <tr>\n",
       "      <th>25%</th>\n",
       "      <td>1893.750000</td>\n",
       "      <td>1.863429e-07</td>\n",
       "      <td>5.025215e-07</td>\n",
       "      <td>0.000001</td>\n",
       "      <td>0.000002</td>\n",
       "      <td>0.000000e+00</td>\n",
       "      <td>0.000005</td>\n",
       "    </tr>\n",
       "    <tr>\n",
       "      <th>50%</th>\n",
       "      <td>1936.500000</td>\n",
       "      <td>1.664020e-06</td>\n",
       "      <td>7.576835e-06</td>\n",
       "      <td>0.000017</td>\n",
       "      <td>0.000034</td>\n",
       "      <td>8.518776e-07</td>\n",
       "      <td>0.000100</td>\n",
       "    </tr>\n",
       "    <tr>\n",
       "      <th>75%</th>\n",
       "      <td>1979.250000</td>\n",
       "      <td>1.362088e-05</td>\n",
       "      <td>6.887503e-05</td>\n",
       "      <td>0.000201</td>\n",
       "      <td>0.000258</td>\n",
       "      <td>1.009572e-04</td>\n",
       "      <td>0.000618</td>\n",
       "    </tr>\n",
       "    <tr>\n",
       "      <th>max</th>\n",
       "      <td>2022.000000</td>\n",
       "      <td>2.298785e-02</td>\n",
       "      <td>5.971938e-02</td>\n",
       "      <td>0.259437</td>\n",
       "      <td>0.157149</td>\n",
       "      <td>7.764043e-01</td>\n",
       "      <td>0.359545</td>\n",
       "    </tr>\n",
       "  </tbody>\n",
       "</table>\n",
       "</div>"
      ],
      "text/plain": [
       "               Year  \\\n",
       "count  41280.000000   \n",
       "mean    1936.500000   \n",
       "std       49.651885   \n",
       "min     1851.000000   \n",
       "25%     1893.750000   \n",
       "50%     1936.500000   \n",
       "75%     1979.250000   \n",
       "max     2022.000000   \n",
       "\n",
       "       Change in global mean surface temperature caused by nitrous oxide emissions from fossil fuels and industry  \\\n",
       "count                                       3.784000e+04                                                            \n",
       "mean                                        1.523874e-04                                                            \n",
       "std                                         9.112282e-04                                                            \n",
       "min                                         0.000000e+00                                                            \n",
       "25%                                         1.863429e-07                                                            \n",
       "50%                                         1.664020e-06                                                            \n",
       "75%                                         1.362088e-05                                                            \n",
       "max                                         2.298785e-02                                                            \n",
       "\n",
       "       Change in global mean surface temperature caused by nitrous oxide emissions from agriculture and land use  \\\n",
       "count                                       3.715200e+04                                                           \n",
       "mean                                        3.774921e-04                                                           \n",
       "std                                         2.055087e-03                                                           \n",
       "min                                         0.000000e+00                                                           \n",
       "25%                                         5.025215e-07                                                           \n",
       "50%                                         7.576835e-06                                                           \n",
       "75%                                         6.887503e-05                                                           \n",
       "max                                         5.971938e-02                                                           \n",
       "\n",
       "       Change in global mean surface temperature caused by methane emissions from fossil fuels and industry  \\\n",
       "count                                       37840.000000                                                      \n",
       "mean                                            0.001684                                                      \n",
       "std                                             0.009604                                                      \n",
       "min                                             0.000000                                                      \n",
       "25%                                             0.000001                                                      \n",
       "50%                                             0.000017                                                      \n",
       "75%                                             0.000201                                                      \n",
       "max                                             0.259437                                                      \n",
       "\n",
       "       Change in global mean surface temperature caused by methane emissions from agriculture and land use  \\\n",
       "count                                       36980.000000                                                     \n",
       "mean                                            0.001380                                                     \n",
       "std                                             0.006900                                                     \n",
       "min                                            -0.000693                                                     \n",
       "25%                                             0.000002                                                     \n",
       "50%                                             0.000034                                                     \n",
       "75%                                             0.000258                                                     \n",
       "max                                             0.157149                                                     \n",
       "\n",
       "       Change in global mean surface temperature caused by CO₂ emissions from fossil fuels and industry  \\\n",
       "count                                       4.093600e+04                                                  \n",
       "mean                                        4.010030e-03                                                  \n",
       "std                                         2.744131e-02                                                  \n",
       "min                                         0.000000e+00                                                  \n",
       "25%                                         0.000000e+00                                                  \n",
       "50%                                         8.518776e-07                                                  \n",
       "75%                                         1.009572e-04                                                  \n",
       "max                                         7.764043e-01                                                  \n",
       "\n",
       "       Change in global mean surface temperature caused by CO₂ emissions from agriculture and land use  \n",
       "count                                       36636.000000                                                \n",
       "mean                                            0.003863                                                \n",
       "std                                             0.017857                                                \n",
       "min                                            -0.001109                                                \n",
       "25%                                             0.000005                                                \n",
       "50%                                             0.000100                                                \n",
       "75%                                             0.000618                                                \n",
       "max                                             0.359545                                                "
      ]
     },
     "execution_count": 5,
     "metadata": {},
     "output_type": "execute_result"
    }
   ],
   "source": [
    "Global_warming_by_gas_and_source.describe()"
   ]
  },
  {
   "cell_type": "code",
   "execution_count": 6,
   "id": "5bcedda0",
   "metadata": {},
   "outputs": [
    {
     "data": {
      "text/plain": [
       "Entity                                                                                                           0\n",
       "Code                                                                                                          3956\n",
       "Year                                                                                                             0\n",
       "Change in global mean surface temperature caused by nitrous oxide emissions from fossil fuels and industry    3440\n",
       "Change in global mean surface temperature caused by nitrous oxide emissions from agriculture and land use     4128\n",
       "Change in global mean surface temperature caused by methane emissions from fossil fuels and industry          3440\n",
       "Change in global mean surface temperature caused by methane emissions from agriculture and land use           4300\n",
       "Change in global mean surface temperature caused by CO₂ emissions from fossil fuels and industry               344\n",
       "Change in global mean surface temperature caused by CO₂ emissions from agriculture and land use               4644\n",
       "dtype: int64"
      ]
     },
     "execution_count": 6,
     "metadata": {},
     "output_type": "execute_result"
    }
   ],
   "source": [
    "Global_warming_by_gas_and_source.isnull().sum()"
   ]
  },
  {
   "cell_type": "markdown",
   "id": "cae6aeae",
   "metadata": {},
   "source": [
    "From here "
   ]
  },
  {
   "cell_type": "markdown",
   "id": "ee9ac9e0-3d10-4c25-a8c9-d82a11176777",
   "metadata": {},
   "source": [
    "##### <center> Temperature changes due to the fossil fuels industries and products from 1936 to 2022 </center> #####"
   ]
  },
  {
   "cell_type": "code",
   "execution_count": 7,
   "id": "05d8cb75",
   "metadata": {},
   "outputs": [
    {
     "data": {
      "text/html": [
       "<div>\n",
       "<style scoped>\n",
       "    .dataframe tbody tr th:only-of-type {\n",
       "        vertical-align: middle;\n",
       "    }\n",
       "\n",
       "    .dataframe tbody tr th {\n",
       "        vertical-align: top;\n",
       "    }\n",
       "\n",
       "    .dataframe thead th {\n",
       "        text-align: right;\n",
       "    }\n",
       "</style>\n",
       "<table border=\"1\" class=\"dataframe\">\n",
       "  <thead>\n",
       "    <tr style=\"text-align: right;\">\n",
       "      <th></th>\n",
       "      <th>Year</th>\n",
       "      <th>Change in global mean surface temperature caused by greenhouse gas emissions from fossil fuels and industry</th>\n",
       "    </tr>\n",
       "  </thead>\n",
       "  <tbody>\n",
       "    <tr>\n",
       "      <th>count</th>\n",
       "      <td>41108.000000</td>\n",
       "      <td>41108.000000</td>\n",
       "    </tr>\n",
       "    <tr>\n",
       "      <th>mean</th>\n",
       "      <td>1936.500000</td>\n",
       "      <td>0.005683</td>\n",
       "    </tr>\n",
       "    <tr>\n",
       "      <th>std</th>\n",
       "      <td>49.651888</td>\n",
       "      <td>0.036782</td>\n",
       "    </tr>\n",
       "    <tr>\n",
       "      <th>min</th>\n",
       "      <td>1851.000000</td>\n",
       "      <td>0.000000</td>\n",
       "    </tr>\n",
       "    <tr>\n",
       "      <th>25%</th>\n",
       "      <td>1893.750000</td>\n",
       "      <td>0.000001</td>\n",
       "    </tr>\n",
       "    <tr>\n",
       "      <th>50%</th>\n",
       "      <td>1936.500000</td>\n",
       "      <td>0.000019</td>\n",
       "    </tr>\n",
       "    <tr>\n",
       "      <th>75%</th>\n",
       "      <td>1979.250000</td>\n",
       "      <td>0.000326</td>\n",
       "    </tr>\n",
       "    <tr>\n",
       "      <th>max</th>\n",
       "      <td>2022.000000</td>\n",
       "      <td>1.058829</td>\n",
       "    </tr>\n",
       "  </tbody>\n",
       "</table>\n",
       "</div>"
      ],
      "text/plain": [
       "               Year  \\\n",
       "count  41108.000000   \n",
       "mean    1936.500000   \n",
       "std       49.651888   \n",
       "min     1851.000000   \n",
       "25%     1893.750000   \n",
       "50%     1936.500000   \n",
       "75%     1979.250000   \n",
       "max     2022.000000   \n",
       "\n",
       "       Change in global mean surface temperature caused by greenhouse gas emissions from fossil fuels and industry  \n",
       "count                                       41108.000000                                                            \n",
       "mean                                            0.005683                                                            \n",
       "std                                             0.036782                                                            \n",
       "min                                             0.000000                                                            \n",
       "25%                                             0.000001                                                            \n",
       "50%                                             0.000019                                                            \n",
       "75%                                             0.000326                                                            \n",
       "max                                             1.058829                                                            "
      ]
     },
     "execution_count": 7,
     "metadata": {},
     "output_type": "execute_result"
    }
   ],
   "source": [
    "Global_warming_by_fossil.describe()"
   ]
  },
  {
   "cell_type": "code",
   "execution_count": 8,
   "id": "2aa2747c",
   "metadata": {},
   "outputs": [
    {
     "data": {
      "text/plain": [
       "Entity                                                                                                            0\n",
       "Code                                                                                                           3956\n",
       "Year                                                                                                              0\n",
       "Change in global mean surface temperature caused by greenhouse gas emissions from fossil fuels and industry       0\n",
       "dtype: int64"
      ]
     },
     "execution_count": 8,
     "metadata": {},
     "output_type": "execute_result"
    }
   ],
   "source": [
    "Global_warming_by_fossil.isnull().sum()"
   ]
  },
  {
   "cell_type": "markdown",
   "id": "a1d350e1-ad37-4537-acaf-e73d51eae8f7",
   "metadata": {},
   "source": [
    "##### <center> CO2 emissions by country from 1750 to 2022 </center> #####"
   ]
  },
  {
   "cell_type": "code",
   "execution_count": 9,
   "id": "c621af6a",
   "metadata": {},
   "outputs": [
    {
     "data": {
      "text/html": [
       "<div>\n",
       "<style scoped>\n",
       "    .dataframe tbody tr th:only-of-type {\n",
       "        vertical-align: middle;\n",
       "    }\n",
       "\n",
       "    .dataframe tbody tr th {\n",
       "        vertical-align: top;\n",
       "    }\n",
       "\n",
       "    .dataframe thead th {\n",
       "        text-align: right;\n",
       "    }\n",
       "</style>\n",
       "<table border=\"1\" class=\"dataframe\">\n",
       "  <thead>\n",
       "    <tr style=\"text-align: right;\">\n",
       "      <th></th>\n",
       "      <th>Year</th>\n",
       "      <th>Annual CO₂ emissions</th>\n",
       "    </tr>\n",
       "  </thead>\n",
       "  <tbody>\n",
       "    <tr>\n",
       "      <th>count</th>\n",
       "      <td>30308.000000</td>\n",
       "      <td>3.030800e+04</td>\n",
       "    </tr>\n",
       "    <tr>\n",
       "      <th>mean</th>\n",
       "      <td>1940.191336</td>\n",
       "      <td>3.912722e+08</td>\n",
       "    </tr>\n",
       "    <tr>\n",
       "      <th>std</th>\n",
       "      <td>65.510232</td>\n",
       "      <td>1.857973e+09</td>\n",
       "    </tr>\n",
       "    <tr>\n",
       "      <th>min</th>\n",
       "      <td>1750.000000</td>\n",
       "      <td>0.000000e+00</td>\n",
       "    </tr>\n",
       "    <tr>\n",
       "      <th>25%</th>\n",
       "      <td>1902.000000</td>\n",
       "      <td>1.832000e+05</td>\n",
       "    </tr>\n",
       "    <tr>\n",
       "      <th>50%</th>\n",
       "      <td>1959.000000</td>\n",
       "      <td>3.856092e+06</td>\n",
       "    </tr>\n",
       "    <tr>\n",
       "      <th>75%</th>\n",
       "      <td>1991.000000</td>\n",
       "      <td>4.725670e+07</td>\n",
       "    </tr>\n",
       "    <tr>\n",
       "      <th>max</th>\n",
       "      <td>2022.000000</td>\n",
       "      <td>3.714979e+10</td>\n",
       "    </tr>\n",
       "  </tbody>\n",
       "</table>\n",
       "</div>"
      ],
      "text/plain": [
       "               Year  Annual CO₂ emissions\n",
       "count  30308.000000          3.030800e+04\n",
       "mean    1940.191336          3.912722e+08\n",
       "std       65.510232          1.857973e+09\n",
       "min     1750.000000          0.000000e+00\n",
       "25%     1902.000000          1.832000e+05\n",
       "50%     1959.000000          3.856092e+06\n",
       "75%     1991.000000          4.725670e+07\n",
       "max     2022.000000          3.714979e+10"
      ]
     },
     "execution_count": 9,
     "metadata": {},
     "output_type": "execute_result"
    }
   ],
   "source": [
    "CO2_Emissions_by_Country.describe()"
   ]
  },
  {
   "cell_type": "code",
   "execution_count": 10,
   "id": "87eb7fa3",
   "metadata": {},
   "outputs": [
    {
     "data": {
      "text/plain": [
       "Entity                     0\n",
       "Code                    6151\n",
       "Year                       0\n",
       "Annual CO₂ emissions       0\n",
       "dtype: int64"
      ]
     },
     "execution_count": 10,
     "metadata": {},
     "output_type": "execute_result"
    }
   ],
   "source": [
    "CO2_Emissions_by_Country.isnull().sum()"
   ]
  },
  {
   "cell_type": "markdown",
   "id": "79196a55-7689-48f2-a0ba-9dc85229d567",
   "metadata": {},
   "source": [
    "##### <center> CO2 emissions per capita by country from 1750 to 2022 </center> #####"
   ]
  },
  {
   "cell_type": "code",
   "execution_count": 11,
   "id": "8f05d6f8",
   "metadata": {},
   "outputs": [
    {
     "data": {
      "text/html": [
       "<div>\n",
       "<style scoped>\n",
       "    .dataframe tbody tr th:only-of-type {\n",
       "        vertical-align: middle;\n",
       "    }\n",
       "\n",
       "    .dataframe tbody tr th {\n",
       "        vertical-align: top;\n",
       "    }\n",
       "\n",
       "    .dataframe thead th {\n",
       "        text-align: right;\n",
       "    }\n",
       "</style>\n",
       "<table border=\"1\" class=\"dataframe\">\n",
       "  <thead>\n",
       "    <tr style=\"text-align: right;\">\n",
       "      <th></th>\n",
       "      <th>Year</th>\n",
       "      <th>Annual CO₂ emissions (per capita)</th>\n",
       "    </tr>\n",
       "  </thead>\n",
       "  <tbody>\n",
       "    <tr>\n",
       "      <th>count</th>\n",
       "      <td>26600.000000</td>\n",
       "      <td>26600.000000</td>\n",
       "    </tr>\n",
       "    <tr>\n",
       "      <th>mean</th>\n",
       "      <td>1949.096880</td>\n",
       "      <td>3.710389</td>\n",
       "    </tr>\n",
       "    <tr>\n",
       "      <th>std</th>\n",
       "      <td>56.387496</td>\n",
       "      <td>14.295602</td>\n",
       "    </tr>\n",
       "    <tr>\n",
       "      <th>min</th>\n",
       "      <td>1750.000000</td>\n",
       "      <td>0.000000</td>\n",
       "    </tr>\n",
       "    <tr>\n",
       "      <th>25%</th>\n",
       "      <td>1915.000000</td>\n",
       "      <td>0.132006</td>\n",
       "    </tr>\n",
       "    <tr>\n",
       "      <th>50%</th>\n",
       "      <td>1963.000000</td>\n",
       "      <td>0.933317</td>\n",
       "    </tr>\n",
       "    <tr>\n",
       "      <th>75%</th>\n",
       "      <td>1994.000000</td>\n",
       "      <td>4.148054</td>\n",
       "    </tr>\n",
       "    <tr>\n",
       "      <th>max</th>\n",
       "      <td>2022.000000</td>\n",
       "      <td>771.886500</td>\n",
       "    </tr>\n",
       "  </tbody>\n",
       "</table>\n",
       "</div>"
      ],
      "text/plain": [
       "               Year  Annual CO₂ emissions (per capita)\n",
       "count  26600.000000                       26600.000000\n",
       "mean    1949.096880                           3.710389\n",
       "std       56.387496                          14.295602\n",
       "min     1750.000000                           0.000000\n",
       "25%     1915.000000                           0.132006\n",
       "50%     1963.000000                           0.933317\n",
       "75%     1994.000000                           4.148054\n",
       "max     2022.000000                         771.886500"
      ]
     },
     "execution_count": 11,
     "metadata": {},
     "output_type": "execute_result"
    }
   ],
   "source": [
    "CO2_Emissions_per_capita.describe()"
   ]
  },
  {
   "cell_type": "code",
   "execution_count": 12,
   "id": "f4dae969",
   "metadata": {},
   "outputs": [
    {
     "data": {
      "text/plain": [
       "Entity                                  0\n",
       "Code                                 3554\n",
       "Year                                    0\n",
       "Annual CO₂ emissions (per capita)       0\n",
       "dtype: int64"
      ]
     },
     "execution_count": 12,
     "metadata": {},
     "output_type": "execute_result"
    }
   ],
   "source": [
    "CO2_Emissions_per_capita.isnull().sum()"
   ]
  },
  {
   "cell_type": "markdown",
   "id": "5f306c59-fca5-45af-ad1e-8e5b2b424c36",
   "metadata": {},
   "source": [
    "##### <center> GHG emissions per capita by country from 1850 to 2022 </center> #####"
   ]
  },
  {
   "cell_type": "code",
   "execution_count": 13,
   "id": "9233927e",
   "metadata": {},
   "outputs": [
    {
     "data": {
      "text/html": [
       "<div>\n",
       "<style scoped>\n",
       "    .dataframe tbody tr th:only-of-type {\n",
       "        vertical-align: middle;\n",
       "    }\n",
       "\n",
       "    .dataframe tbody tr th {\n",
       "        vertical-align: top;\n",
       "    }\n",
       "\n",
       "    .dataframe thead th {\n",
       "        text-align: right;\n",
       "    }\n",
       "</style>\n",
       "<table border=\"1\" class=\"dataframe\">\n",
       "  <thead>\n",
       "    <tr style=\"text-align: right;\">\n",
       "      <th></th>\n",
       "      <th>Year</th>\n",
       "      <th>Per-capita greenhouse gas emissions in CO₂ equivalents</th>\n",
       "    </tr>\n",
       "  </thead>\n",
       "  <tbody>\n",
       "    <tr>\n",
       "      <th>count</th>\n",
       "      <td>35611.000000</td>\n",
       "      <td>35611.000000</td>\n",
       "    </tr>\n",
       "    <tr>\n",
       "      <th>mean</th>\n",
       "      <td>1936.387099</td>\n",
       "      <td>7.729254</td>\n",
       "    </tr>\n",
       "    <tr>\n",
       "      <th>std</th>\n",
       "      <td>49.969915</td>\n",
       "      <td>11.361487</td>\n",
       "    </tr>\n",
       "    <tr>\n",
       "      <th>min</th>\n",
       "      <td>1850.000000</td>\n",
       "      <td>-9.726096</td>\n",
       "    </tr>\n",
       "    <tr>\n",
       "      <th>25%</th>\n",
       "      <td>1893.000000</td>\n",
       "      <td>2.094231</td>\n",
       "    </tr>\n",
       "    <tr>\n",
       "      <th>50%</th>\n",
       "      <td>1937.000000</td>\n",
       "      <td>4.319857</td>\n",
       "    </tr>\n",
       "    <tr>\n",
       "      <th>75%</th>\n",
       "      <td>1980.000000</td>\n",
       "      <td>9.065737</td>\n",
       "    </tr>\n",
       "    <tr>\n",
       "      <th>max</th>\n",
       "      <td>2022.000000</td>\n",
       "      <td>372.920780</td>\n",
       "    </tr>\n",
       "  </tbody>\n",
       "</table>\n",
       "</div>"
      ],
      "text/plain": [
       "               Year  Per-capita greenhouse gas emissions in CO₂ equivalents\n",
       "count  35611.000000                                       35611.000000     \n",
       "mean    1936.387099                                           7.729254     \n",
       "std       49.969915                                          11.361487     \n",
       "min     1850.000000                                          -9.726096     \n",
       "25%     1893.000000                                           2.094231     \n",
       "50%     1937.000000                                           4.319857     \n",
       "75%     1980.000000                                           9.065737     \n",
       "max     2022.000000                                         372.920780     "
      ]
     },
     "execution_count": 13,
     "metadata": {},
     "output_type": "execute_result"
    }
   ],
   "source": [
    "GHG_per_capita.describe()"
   ]
  },
  {
   "cell_type": "code",
   "execution_count": 14,
   "id": "9eea79c6",
   "metadata": {},
   "outputs": [
    {
     "data": {
      "text/plain": [
       "Entity                                                       0\n",
       "Code                                                      1903\n",
       "Year                                                         0\n",
       "Per-capita greenhouse gas emissions in CO₂ equivalents       0\n",
       "dtype: int64"
      ]
     },
     "execution_count": 14,
     "metadata": {},
     "output_type": "execute_result"
    }
   ],
   "source": [
    "GHG_per_capita.isnull().sum()"
   ]
  },
  {
   "cell_type": "markdown",
   "id": "b4fb8839-5afe-4062-be69-de86da371155",
   "metadata": {},
   "source": [
    "##### <center> Methane emissions per capita by country from 1850 to 2022 </center> #####"
   ]
  },
  {
   "cell_type": "code",
   "execution_count": 15,
   "id": "7c16b8a2",
   "metadata": {},
   "outputs": [
    {
     "data": {
      "text/html": [
       "<div>\n",
       "<style scoped>\n",
       "    .dataframe tbody tr th:only-of-type {\n",
       "        vertical-align: middle;\n",
       "    }\n",
       "\n",
       "    .dataframe tbody tr th {\n",
       "        vertical-align: top;\n",
       "    }\n",
       "\n",
       "    .dataframe thead th {\n",
       "        text-align: right;\n",
       "    }\n",
       "</style>\n",
       "<table border=\"1\" class=\"dataframe\">\n",
       "  <thead>\n",
       "    <tr style=\"text-align: right;\">\n",
       "      <th></th>\n",
       "      <th>Year</th>\n",
       "      <th>Per-capita methane emissions in CO₂ equivalents</th>\n",
       "    </tr>\n",
       "  </thead>\n",
       "  <tbody>\n",
       "    <tr>\n",
       "      <th>count</th>\n",
       "      <td>35611.000000</td>\n",
       "      <td>35611.000000</td>\n",
       "    </tr>\n",
       "    <tr>\n",
       "      <th>mean</th>\n",
       "      <td>1936.387099</td>\n",
       "      <td>1.859703</td>\n",
       "    </tr>\n",
       "    <tr>\n",
       "      <th>std</th>\n",
       "      <td>49.969915</td>\n",
       "      <td>4.024501</td>\n",
       "    </tr>\n",
       "    <tr>\n",
       "      <th>min</th>\n",
       "      <td>1850.000000</td>\n",
       "      <td>0.031820</td>\n",
       "    </tr>\n",
       "    <tr>\n",
       "      <th>25%</th>\n",
       "      <td>1893.000000</td>\n",
       "      <td>0.656316</td>\n",
       "    </tr>\n",
       "    <tr>\n",
       "      <th>50%</th>\n",
       "      <td>1937.000000</td>\n",
       "      <td>1.053669</td>\n",
       "    </tr>\n",
       "    <tr>\n",
       "      <th>75%</th>\n",
       "      <td>1980.000000</td>\n",
       "      <td>1.772206</td>\n",
       "    </tr>\n",
       "    <tr>\n",
       "      <th>max</th>\n",
       "      <td>2022.000000</td>\n",
       "      <td>122.340965</td>\n",
       "    </tr>\n",
       "  </tbody>\n",
       "</table>\n",
       "</div>"
      ],
      "text/plain": [
       "               Year  Per-capita methane emissions in CO₂ equivalents\n",
       "count  35611.000000                                     35611.000000\n",
       "mean    1936.387099                                         1.859703\n",
       "std       49.969915                                         4.024501\n",
       "min     1850.000000                                         0.031820\n",
       "25%     1893.000000                                         0.656316\n",
       "50%     1937.000000                                         1.053669\n",
       "75%     1980.000000                                         1.772206\n",
       "max     2022.000000                                       122.340965"
      ]
     },
     "execution_count": 15,
     "metadata": {},
     "output_type": "execute_result"
    }
   ],
   "source": [
    "methane_per_capita.describe()"
   ]
  },
  {
   "cell_type": "code",
   "execution_count": 16,
   "id": "92dba598",
   "metadata": {},
   "outputs": [
    {
     "data": {
      "text/plain": [
       "Entity                                                0\n",
       "Code                                               1903\n",
       "Year                                                  0\n",
       "Per-capita methane emissions in CO₂ equivalents       0\n",
       "dtype: int64"
      ]
     },
     "execution_count": 16,
     "metadata": {},
     "output_type": "execute_result"
    }
   ],
   "source": [
    "methane_per_capita.isnull().sum()"
   ]
  },
  {
   "cell_type": "markdown",
   "id": "2f3fef3e-3be9-4068-a3dc-16158c8ad5c5",
   "metadata": {},
   "source": [
    "##### <center> Nitrous Oxide emissions per capita by country from 1850 to 2022 </center> #####"
   ]
  },
  {
   "cell_type": "code",
   "execution_count": 17,
   "id": "dfe74c24",
   "metadata": {},
   "outputs": [
    {
     "data": {
      "text/html": [
       "<div>\n",
       "<style scoped>\n",
       "    .dataframe tbody tr th:only-of-type {\n",
       "        vertical-align: middle;\n",
       "    }\n",
       "\n",
       "    .dataframe tbody tr th {\n",
       "        vertical-align: top;\n",
       "    }\n",
       "\n",
       "    .dataframe thead th {\n",
       "        text-align: right;\n",
       "    }\n",
       "</style>\n",
       "<table border=\"1\" class=\"dataframe\">\n",
       "  <thead>\n",
       "    <tr style=\"text-align: right;\">\n",
       "      <th></th>\n",
       "      <th>Year</th>\n",
       "      <th>Per-capita nitrous oxide emissions in CO₂ equivalents</th>\n",
       "    </tr>\n",
       "  </thead>\n",
       "  <tbody>\n",
       "    <tr>\n",
       "      <th>count</th>\n",
       "      <td>36113.000000</td>\n",
       "      <td>36113.000000</td>\n",
       "    </tr>\n",
       "    <tr>\n",
       "      <th>mean</th>\n",
       "      <td>1936.746075</td>\n",
       "      <td>0.458381</td>\n",
       "    </tr>\n",
       "    <tr>\n",
       "      <th>std</th>\n",
       "      <td>49.999900</td>\n",
       "      <td>0.834567</td>\n",
       "    </tr>\n",
       "    <tr>\n",
       "      <th>min</th>\n",
       "      <td>1850.000000</td>\n",
       "      <td>0.000000</td>\n",
       "    </tr>\n",
       "    <tr>\n",
       "      <th>25%</th>\n",
       "      <td>1893.000000</td>\n",
       "      <td>0.107543</td>\n",
       "    </tr>\n",
       "    <tr>\n",
       "      <th>50%</th>\n",
       "      <td>1937.000000</td>\n",
       "      <td>0.226371</td>\n",
       "    </tr>\n",
       "    <tr>\n",
       "      <th>75%</th>\n",
       "      <td>1980.000000</td>\n",
       "      <td>0.459389</td>\n",
       "    </tr>\n",
       "    <tr>\n",
       "      <th>max</th>\n",
       "      <td>2022.000000</td>\n",
       "      <td>20.191744</td>\n",
       "    </tr>\n",
       "  </tbody>\n",
       "</table>\n",
       "</div>"
      ],
      "text/plain": [
       "               Year  Per-capita nitrous oxide emissions in CO₂ equivalents\n",
       "count  36113.000000                                       36113.000000    \n",
       "mean    1936.746075                                           0.458381    \n",
       "std       49.999900                                           0.834567    \n",
       "min     1850.000000                                           0.000000    \n",
       "25%     1893.000000                                           0.107543    \n",
       "50%     1937.000000                                           0.226371    \n",
       "75%     1980.000000                                           0.459389    \n",
       "max     2022.000000                                          20.191744    "
      ]
     },
     "execution_count": 17,
     "metadata": {},
     "output_type": "execute_result"
    }
   ],
   "source": [
    "nitrous_oxide_per_capita.describe()"
   ]
  },
  {
   "cell_type": "code",
   "execution_count": 18,
   "id": "dd149bdf",
   "metadata": {},
   "outputs": [
    {
     "data": {
      "text/plain": [
       "Entity                                                      0\n",
       "Code                                                     1903\n",
       "Year                                                        0\n",
       "Per-capita nitrous oxide emissions in CO₂ equivalents       0\n",
       "dtype: int64"
      ]
     },
     "execution_count": 18,
     "metadata": {},
     "output_type": "execute_result"
    }
   ],
   "source": [
    "nitrous_oxide_per_capita.isnull().sum()"
   ]
  },
  {
   "cell_type": "markdown",
   "id": "dbab14cc-f258-42dc-a676-6de8ff45ad5b",
   "metadata": {},
   "source": [
    "### <center> Economic Development Data</center> ###"
   ]
  },
  {
   "cell_type": "markdown",
   "id": "5319809f-600a-4641-875c-1ce18d9320f4",
   "metadata": {},
   "source": [
    "##### <center> Income classifications for each country from 1987 to 2023 </center> #####"
   ]
  },
  {
   "cell_type": "code",
   "execution_count": 19,
   "id": "6864a0d1-c71c-4210-b29b-0cd4d7b3786b",
   "metadata": {},
   "outputs": [
    {
     "data": {
      "text/html": [
       "<div>\n",
       "<style scoped>\n",
       "    .dataframe tbody tr th:only-of-type {\n",
       "        vertical-align: middle;\n",
       "    }\n",
       "\n",
       "    .dataframe tbody tr th {\n",
       "        vertical-align: top;\n",
       "    }\n",
       "\n",
       "    .dataframe thead th {\n",
       "        text-align: right;\n",
       "    }\n",
       "</style>\n",
       "<table border=\"1\" class=\"dataframe\">\n",
       "  <thead>\n",
       "    <tr style=\"text-align: right;\">\n",
       "      <th></th>\n",
       "      <th>Year</th>\n",
       "      <th>Number of high-income countries</th>\n",
       "      <th>Number of upper-middle-income countries</th>\n",
       "      <th>Number of lower-middle-income countries</th>\n",
       "      <th>Number of low-income countries</th>\n",
       "    </tr>\n",
       "  </thead>\n",
       "  <tbody>\n",
       "    <tr>\n",
       "      <th>count</th>\n",
       "      <td>259.00000</td>\n",
       "      <td>259.000000</td>\n",
       "      <td>259.000000</td>\n",
       "      <td>259.000000</td>\n",
       "      <td>259.000000</td>\n",
       "    </tr>\n",
       "    <tr>\n",
       "      <th>mean</th>\n",
       "      <td>2005.00000</td>\n",
       "      <td>17.320463</td>\n",
       "      <td>12.416988</td>\n",
       "      <td>15.776062</td>\n",
       "      <td>13.359073</td>\n",
       "    </tr>\n",
       "    <tr>\n",
       "      <th>std</th>\n",
       "      <td>10.69775</td>\n",
       "      <td>20.933301</td>\n",
       "      <td>13.568798</td>\n",
       "      <td>17.071329</td>\n",
       "      <td>18.337660</td>\n",
       "    </tr>\n",
       "    <tr>\n",
       "      <th>min</th>\n",
       "      <td>1987.00000</td>\n",
       "      <td>0.000000</td>\n",
       "      <td>1.000000</td>\n",
       "      <td>0.000000</td>\n",
       "      <td>0.000000</td>\n",
       "    </tr>\n",
       "    <tr>\n",
       "      <th>25%</th>\n",
       "      <td>1996.00000</td>\n",
       "      <td>2.000000</td>\n",
       "      <td>5.000000</td>\n",
       "      <td>6.000000</td>\n",
       "      <td>0.000000</td>\n",
       "    </tr>\n",
       "    <tr>\n",
       "      <th>50%</th>\n",
       "      <td>2005.00000</td>\n",
       "      <td>10.000000</td>\n",
       "      <td>8.000000</td>\n",
       "      <td>9.000000</td>\n",
       "      <td>2.000000</td>\n",
       "    </tr>\n",
       "    <tr>\n",
       "      <th>75%</th>\n",
       "      <td>2014.00000</td>\n",
       "      <td>22.500000</td>\n",
       "      <td>11.000000</td>\n",
       "      <td>17.000000</td>\n",
       "      <td>26.000000</td>\n",
       "    </tr>\n",
       "    <tr>\n",
       "      <th>max</th>\n",
       "      <td>2023.00000</td>\n",
       "      <td>85.000000</td>\n",
       "      <td>60.000000</td>\n",
       "      <td>71.000000</td>\n",
       "      <td>66.000000</td>\n",
       "    </tr>\n",
       "  </tbody>\n",
       "</table>\n",
       "</div>"
      ],
      "text/plain": [
       "             Year  Number of high-income countries  \\\n",
       "count   259.00000                       259.000000   \n",
       "mean   2005.00000                        17.320463   \n",
       "std      10.69775                        20.933301   \n",
       "min    1987.00000                         0.000000   \n",
       "25%    1996.00000                         2.000000   \n",
       "50%    2005.00000                        10.000000   \n",
       "75%    2014.00000                        22.500000   \n",
       "max    2023.00000                        85.000000   \n",
       "\n",
       "       Number of upper-middle-income countries  \\\n",
       "count                               259.000000   \n",
       "mean                                 12.416988   \n",
       "std                                  13.568798   \n",
       "min                                   1.000000   \n",
       "25%                                   5.000000   \n",
       "50%                                   8.000000   \n",
       "75%                                  11.000000   \n",
       "max                                  60.000000   \n",
       "\n",
       "       Number of lower-middle-income countries  Number of low-income countries  \n",
       "count                               259.000000                      259.000000  \n",
       "mean                                 15.776062                       13.359073  \n",
       "std                                  17.071329                       18.337660  \n",
       "min                                   0.000000                        0.000000  \n",
       "25%                                   6.000000                        0.000000  \n",
       "50%                                   9.000000                        2.000000  \n",
       "75%                                  17.000000                       26.000000  \n",
       "max                                  71.000000                       66.000000  "
      ]
     },
     "execution_count": 19,
     "metadata": {},
     "output_type": "execute_result"
    }
   ],
   "source": [
    "Countries_By_Income_Classification.describe()"
   ]
  },
  {
   "cell_type": "code",
   "execution_count": 20,
   "id": "af310159-0a03-4371-a776-85929fa2a4b8",
   "metadata": {},
   "outputs": [
    {
     "data": {
      "text/plain": [
       "Entity                                       0\n",
       "Code                                       222\n",
       "Year                                         0\n",
       "Number of high-income countries              0\n",
       "Number of upper-middle-income countries      0\n",
       "Number of lower-middle-income countries      0\n",
       "Number of low-income countries               0\n",
       "dtype: int64"
      ]
     },
     "execution_count": 20,
     "metadata": {},
     "output_type": "execute_result"
    }
   ],
   "source": [
    "Countries_By_Income_Classification.isnull().sum()"
   ]
  },
  {
   "cell_type": "markdown",
   "id": "957a06ad-dce7-4a1c-b672-af079f5256f3",
   "metadata": {},
   "source": [
    "##### <center> GDP Per Capita by country from 1 AD to 2022 from Maddison data </center> #####"
   ]
  },
  {
   "cell_type": "code",
   "execution_count": 21,
   "id": "a033a1c9-9ad1-4bf6-a646-e22c61a3d074",
   "metadata": {},
   "outputs": [
    {
     "data": {
      "text/html": [
       "<div>\n",
       "<style scoped>\n",
       "    .dataframe tbody tr th:only-of-type {\n",
       "        vertical-align: middle;\n",
       "    }\n",
       "\n",
       "    .dataframe tbody tr th {\n",
       "        vertical-align: top;\n",
       "    }\n",
       "\n",
       "    .dataframe thead th {\n",
       "        text-align: right;\n",
       "    }\n",
       "</style>\n",
       "<table border=\"1\" class=\"dataframe\">\n",
       "  <thead>\n",
       "    <tr style=\"text-align: right;\">\n",
       "      <th></th>\n",
       "      <th>Year</th>\n",
       "      <th>GDP per capita</th>\n",
       "    </tr>\n",
       "  </thead>\n",
       "  <tbody>\n",
       "    <tr>\n",
       "      <th>count</th>\n",
       "      <td>21586.000000</td>\n",
       "      <td>21586.000000</td>\n",
       "    </tr>\n",
       "    <tr>\n",
       "      <th>mean</th>\n",
       "      <td>1885.580886</td>\n",
       "      <td>6869.635191</td>\n",
       "    </tr>\n",
       "    <tr>\n",
       "      <th>std</th>\n",
       "      <td>173.419292</td>\n",
       "      <td>10723.729694</td>\n",
       "    </tr>\n",
       "    <tr>\n",
       "      <th>min</th>\n",
       "      <td>1.000000</td>\n",
       "      <td>295.000000</td>\n",
       "    </tr>\n",
       "    <tr>\n",
       "      <th>25%</th>\n",
       "      <td>1865.000000</td>\n",
       "      <td>1470.000000</td>\n",
       "    </tr>\n",
       "    <tr>\n",
       "      <th>50%</th>\n",
       "      <td>1957.000000</td>\n",
       "      <td>2617.936650</td>\n",
       "    </tr>\n",
       "    <tr>\n",
       "      <th>75%</th>\n",
       "      <td>1991.000000</td>\n",
       "      <td>7231.694100</td>\n",
       "    </tr>\n",
       "    <tr>\n",
       "      <th>max</th>\n",
       "      <td>2022.000000</td>\n",
       "      <td>160051.230000</td>\n",
       "    </tr>\n",
       "  </tbody>\n",
       "</table>\n",
       "</div>"
      ],
      "text/plain": [
       "               Year  GDP per capita\n",
       "count  21586.000000    21586.000000\n",
       "mean    1885.580886     6869.635191\n",
       "std      173.419292    10723.729694\n",
       "min        1.000000      295.000000\n",
       "25%     1865.000000     1470.000000\n",
       "50%     1957.000000     2617.936650\n",
       "75%     1991.000000     7231.694100\n",
       "max     2022.000000   160051.230000"
      ]
     },
     "execution_count": 21,
     "metadata": {},
     "output_type": "execute_result"
    }
   ],
   "source": [
    "GDPPC_maddison.describe()"
   ]
  },
  {
   "cell_type": "code",
   "execution_count": 22,
   "id": "a0e9be44-78e9-4c96-826f-61f62f123cb0",
   "metadata": {},
   "outputs": [
    {
     "data": {
      "text/plain": [
       "Entity                    0\n",
       "Code                    272\n",
       "Year                      0\n",
       "GDP per capita            0\n",
       "900793-annotations    21558\n",
       "dtype: int64"
      ]
     },
     "execution_count": 22,
     "metadata": {},
     "output_type": "execute_result"
    }
   ],
   "source": [
    "GDPPC_maddison.isnull().sum()"
   ]
  },
  {
   "cell_type": "markdown",
   "id": "dff4f1e9-6081-4850-8a99-56d296e59bf8",
   "metadata": {},
   "source": [
    "##### <center> GDP Per Capita by country from 1990 to 2022 from World Bank data </center> #####"
   ]
  },
  {
   "cell_type": "code",
   "execution_count": 23,
   "id": "622f9370-7a26-41d4-be97-55d77458c71c",
   "metadata": {},
   "outputs": [
    {
     "data": {
      "text/html": [
       "<div>\n",
       "<style scoped>\n",
       "    .dataframe tbody tr th:only-of-type {\n",
       "        vertical-align: middle;\n",
       "    }\n",
       "\n",
       "    .dataframe tbody tr th {\n",
       "        vertical-align: top;\n",
       "    }\n",
       "\n",
       "    .dataframe thead th {\n",
       "        text-align: right;\n",
       "    }\n",
       "</style>\n",
       "<table border=\"1\" class=\"dataframe\">\n",
       "  <thead>\n",
       "    <tr style=\"text-align: right;\">\n",
       "      <th></th>\n",
       "      <th>Year</th>\n",
       "      <th>GDP per capita, PPP (constant 2017 international $)</th>\n",
       "    </tr>\n",
       "  </thead>\n",
       "  <tbody>\n",
       "    <tr>\n",
       "      <th>count</th>\n",
       "      <td>6562.000000</td>\n",
       "      <td>6562.000000</td>\n",
       "    </tr>\n",
       "    <tr>\n",
       "      <th>mean</th>\n",
       "      <td>2006.434014</td>\n",
       "      <td>18307.128922</td>\n",
       "    </tr>\n",
       "    <tr>\n",
       "      <th>std</th>\n",
       "      <td>9.415812</td>\n",
       "      <td>20344.959620</td>\n",
       "    </tr>\n",
       "    <tr>\n",
       "      <th>min</th>\n",
       "      <td>1990.000000</td>\n",
       "      <td>430.413540</td>\n",
       "    </tr>\n",
       "    <tr>\n",
       "      <th>25%</th>\n",
       "      <td>1998.000000</td>\n",
       "      <td>3726.793100</td>\n",
       "    </tr>\n",
       "    <tr>\n",
       "      <th>50%</th>\n",
       "      <td>2007.000000</td>\n",
       "      <td>10638.246000</td>\n",
       "    </tr>\n",
       "    <tr>\n",
       "      <th>75%</th>\n",
       "      <td>2015.000000</td>\n",
       "      <td>26873.173500</td>\n",
       "    </tr>\n",
       "    <tr>\n",
       "      <th>max</th>\n",
       "      <td>2022.000000</td>\n",
       "      <td>157600.640000</td>\n",
       "    </tr>\n",
       "  </tbody>\n",
       "</table>\n",
       "</div>"
      ],
      "text/plain": [
       "              Year  GDP per capita, PPP (constant 2017 international $)\n",
       "count  6562.000000                                        6562.000000  \n",
       "mean   2006.434014                                       18307.128922  \n",
       "std       9.415812                                       20344.959620  \n",
       "min    1990.000000                                         430.413540  \n",
       "25%    1998.000000                                        3726.793100  \n",
       "50%    2007.000000                                       10638.246000  \n",
       "75%    2015.000000                                       26873.173500  \n",
       "max    2022.000000                                      157600.640000  "
      ]
     },
     "execution_count": 23,
     "metadata": {},
     "output_type": "execute_result"
    }
   ],
   "source": [
    "GDPPC_worldbank.describe()"
   ]
  },
  {
   "cell_type": "code",
   "execution_count": 24,
   "id": "9b4c4b23-cd48-46fd-aded-2e60e6de0954",
   "metadata": {},
   "outputs": [
    {
     "data": {
      "text/plain": [
       "Entity                                                   0\n",
       "Code                                                   429\n",
       "Year                                                     0\n",
       "GDP per capita, PPP (constant 2017 international $)      0\n",
       "dtype: int64"
      ]
     },
     "execution_count": 24,
     "metadata": {},
     "output_type": "execute_result"
    }
   ],
   "source": [
    "GDPPC_worldbank.isnull().sum()"
   ]
  },
  {
   "cell_type": "markdown",
   "id": "8ef342a6-546b-4508-ada8-cb5b25c2b5aa",
   "metadata": {},
   "source": [
    "##### <center> GDP Per Capita by country from 1950 to 2022 from Penn data </center> #####"
   ]
  },
  {
   "cell_type": "code",
   "execution_count": 25,
   "id": "2bbfb60f-e9f7-4a80-b858-fc6cf6e34d91",
   "metadata": {},
   "outputs": [
    {
     "data": {
      "text/html": [
       "<div>\n",
       "<style scoped>\n",
       "    .dataframe tbody tr th:only-of-type {\n",
       "        vertical-align: middle;\n",
       "    }\n",
       "\n",
       "    .dataframe tbody tr th {\n",
       "        vertical-align: top;\n",
       "    }\n",
       "\n",
       "    .dataframe thead th {\n",
       "        text-align: right;\n",
       "    }\n",
       "</style>\n",
       "<table border=\"1\" class=\"dataframe\">\n",
       "  <thead>\n",
       "    <tr style=\"text-align: right;\">\n",
       "      <th></th>\n",
       "      <th>Year</th>\n",
       "      <th>GDP per capita (output, multiple price benchmarks)</th>\n",
       "    </tr>\n",
       "  </thead>\n",
       "  <tbody>\n",
       "    <tr>\n",
       "      <th>count</th>\n",
       "      <td>10108.000000</td>\n",
       "      <td>10108.000000</td>\n",
       "    </tr>\n",
       "    <tr>\n",
       "      <th>mean</th>\n",
       "      <td>1989.576078</td>\n",
       "      <td>13121.751931</td>\n",
       "    </tr>\n",
       "    <tr>\n",
       "      <th>std</th>\n",
       "      <td>18.564530</td>\n",
       "      <td>17131.658623</td>\n",
       "    </tr>\n",
       "    <tr>\n",
       "      <th>min</th>\n",
       "      <td>1950.000000</td>\n",
       "      <td>246.741710</td>\n",
       "    </tr>\n",
       "    <tr>\n",
       "      <th>25%</th>\n",
       "      <td>1975.000000</td>\n",
       "      <td>2617.814225</td>\n",
       "    </tr>\n",
       "    <tr>\n",
       "      <th>50%</th>\n",
       "      <td>1991.000000</td>\n",
       "      <td>6723.897300</td>\n",
       "    </tr>\n",
       "    <tr>\n",
       "      <th>75%</th>\n",
       "      <td>2005.000000</td>\n",
       "      <td>16650.070000</td>\n",
       "    </tr>\n",
       "    <tr>\n",
       "      <th>max</th>\n",
       "      <td>2019.000000</td>\n",
       "      <td>169200.270000</td>\n",
       "    </tr>\n",
       "  </tbody>\n",
       "</table>\n",
       "</div>"
      ],
      "text/plain": [
       "               Year  GDP per capita (output, multiple price benchmarks)\n",
       "count  10108.000000                                       10108.000000 \n",
       "mean    1989.576078                                       13121.751931 \n",
       "std       18.564530                                       17131.658623 \n",
       "min     1950.000000                                         246.741710 \n",
       "25%     1975.000000                                        2617.814225 \n",
       "50%     1991.000000                                        6723.897300 \n",
       "75%     2005.000000                                       16650.070000 \n",
       "max     2019.000000                                      169200.270000 "
      ]
     },
     "execution_count": 25,
     "metadata": {},
     "output_type": "execute_result"
    }
   ],
   "source": [
    "GDPPC_penn.describe()"
   ]
  },
  {
   "cell_type": "code",
   "execution_count": 26,
   "id": "13871850-546f-4595-a6b5-f8b0ac2b34fa",
   "metadata": {},
   "outputs": [
    {
     "data": {
      "text/plain": [
       "Entity                                                0\n",
       "Code                                                  0\n",
       "Year                                                  0\n",
       "GDP per capita (output, multiple price benchmarks)    0\n",
       "dtype: int64"
      ]
     },
     "execution_count": 26,
     "metadata": {},
     "output_type": "execute_result"
    }
   ],
   "source": [
    "GDPPC_penn.isnull().sum()"
   ]
  },
  {
   "cell_type": "markdown",
   "id": "531cd0b4-de5e-4ec3-958a-b7ddca481140",
   "metadata": {},
   "source": [
    "##### <center> Population by Country from 1950 to 2023 </center> #####"
   ]
  },
  {
   "cell_type": "code",
   "execution_count": 27,
   "id": "3ce0a45f-d416-4774-8be8-bc3df503cee7",
   "metadata": {},
   "outputs": [
    {
     "data": {
      "text/html": [
       "<div>\n",
       "<style scoped>\n",
       "    .dataframe tbody tr th:only-of-type {\n",
       "        vertical-align: middle;\n",
       "    }\n",
       "\n",
       "    .dataframe tbody tr th {\n",
       "        vertical-align: top;\n",
       "    }\n",
       "\n",
       "    .dataframe thead th {\n",
       "        text-align: right;\n",
       "    }\n",
       "</style>\n",
       "<table border=\"1\" class=\"dataframe\">\n",
       "  <thead>\n",
       "    <tr style=\"text-align: right;\">\n",
       "      <th></th>\n",
       "      <th>Year</th>\n",
       "      <th>Population - Sex: all - Age: all - Variant: estimates</th>\n",
       "    </tr>\n",
       "  </thead>\n",
       "  <tbody>\n",
       "    <tr>\n",
       "      <th>count</th>\n",
       "      <td>18944.000000</td>\n",
       "      <td>1.894400e+04</td>\n",
       "    </tr>\n",
       "    <tr>\n",
       "      <th>mean</th>\n",
       "      <td>1986.500000</td>\n",
       "      <td>1.306784e+08</td>\n",
       "    </tr>\n",
       "    <tr>\n",
       "      <th>std</th>\n",
       "      <td>21.360573</td>\n",
       "      <td>6.009285e+08</td>\n",
       "    </tr>\n",
       "    <tr>\n",
       "      <th>min</th>\n",
       "      <td>1950.000000</td>\n",
       "      <td>5.010000e+02</td>\n",
       "    </tr>\n",
       "    <tr>\n",
       "      <th>25%</th>\n",
       "      <td>1968.000000</td>\n",
       "      <td>2.858625e+05</td>\n",
       "    </tr>\n",
       "    <tr>\n",
       "      <th>50%</th>\n",
       "      <td>1986.500000</td>\n",
       "      <td>3.885508e+06</td>\n",
       "    </tr>\n",
       "    <tr>\n",
       "      <th>75%</th>\n",
       "      <td>2005.000000</td>\n",
       "      <td>1.746007e+07</td>\n",
       "    </tr>\n",
       "    <tr>\n",
       "      <th>max</th>\n",
       "      <td>2023.000000</td>\n",
       "      <td>8.091735e+09</td>\n",
       "    </tr>\n",
       "  </tbody>\n",
       "</table>\n",
       "</div>"
      ],
      "text/plain": [
       "               Year  Population - Sex: all - Age: all - Variant: estimates\n",
       "count  18944.000000                                       1.894400e+04    \n",
       "mean    1986.500000                                       1.306784e+08    \n",
       "std       21.360573                                       6.009285e+08    \n",
       "min     1950.000000                                       5.010000e+02    \n",
       "25%     1968.000000                                       2.858625e+05    \n",
       "50%     1986.500000                                       3.885508e+06    \n",
       "75%     2005.000000                                       1.746007e+07    \n",
       "max     2023.000000                                       8.091735e+09    "
      ]
     },
     "execution_count": 27,
     "metadata": {},
     "output_type": "execute_result"
    }
   ],
   "source": [
    "Population.describe()"
   ]
  },
  {
   "cell_type": "code",
   "execution_count": 28,
   "id": "3f5885e4-790b-4c26-842a-88b755d25b8b",
   "metadata": {},
   "outputs": [
    {
     "data": {
      "text/plain": [
       "Entity                                                      0\n",
       "Code                                                     1332\n",
       "Year                                                        0\n",
       "Population - Sex: all - Age: all - Variant: estimates       0\n",
       "dtype: int64"
      ]
     },
     "execution_count": 28,
     "metadata": {},
     "output_type": "execute_result"
    }
   ],
   "source": [
    "Population.isnull().sum()"
   ]
  },
  {
   "cell_type": "markdown",
   "id": "ebbc9dac-22d5-405a-84d5-e64599e65381",
   "metadata": {},
   "source": [
    "##### <center> Land usage distribution by country from 10000 BC to 2023 </center> #####"
   ]
  },
  {
   "cell_type": "code",
   "execution_count": 29,
   "id": "fa8e06d4-acd7-4f08-a5d0-b43875e64c15",
   "metadata": {},
   "outputs": [
    {
     "data": {
      "text/html": [
       "<div>\n",
       "<style scoped>\n",
       "    .dataframe tbody tr th:only-of-type {\n",
       "        vertical-align: middle;\n",
       "    }\n",
       "\n",
       "    .dataframe tbody tr th {\n",
       "        vertical-align: top;\n",
       "    }\n",
       "\n",
       "    .dataframe thead th {\n",
       "        text-align: right;\n",
       "    }\n",
       "</style>\n",
       "<table border=\"1\" class=\"dataframe\">\n",
       "  <thead>\n",
       "    <tr style=\"text-align: right;\">\n",
       "      <th></th>\n",
       "      <th>Year</th>\n",
       "      <th>Land use: Built-up area</th>\n",
       "      <th>Land use: Grazingland</th>\n",
       "      <th>Land use: Cropland</th>\n",
       "    </tr>\n",
       "  </thead>\n",
       "  <tbody>\n",
       "    <tr>\n",
       "      <th>count</th>\n",
       "      <td>26838.000000</td>\n",
       "      <td>2.683800e+04</td>\n",
       "      <td>2.683800e+04</td>\n",
       "      <td>2.683800e+04</td>\n",
       "    </tr>\n",
       "    <tr>\n",
       "      <th>mean</th>\n",
       "      <td>1199.214286</td>\n",
       "      <td>4.351732e+05</td>\n",
       "      <td>3.283303e+07</td>\n",
       "      <td>1.566238e+07</td>\n",
       "    </tr>\n",
       "    <tr>\n",
       "      <th>std</th>\n",
       "      <td>2170.821832</td>\n",
       "      <td>2.989501e+06</td>\n",
       "      <td>1.912350e+08</td>\n",
       "      <td>9.022547e+07</td>\n",
       "    </tr>\n",
       "    <tr>\n",
       "      <th>min</th>\n",
       "      <td>-10000.000000</td>\n",
       "      <td>0.000000e+00</td>\n",
       "      <td>0.000000e+00</td>\n",
       "      <td>0.000000e+00</td>\n",
       "    </tr>\n",
       "    <tr>\n",
       "      <th>25%</th>\n",
       "      <td>1740.000000</td>\n",
       "      <td>1.074408e+02</td>\n",
       "      <td>5.721447e+03</td>\n",
       "      <td>1.642382e+04</td>\n",
       "    </tr>\n",
       "    <tr>\n",
       "      <th>50%</th>\n",
       "      <td>1960.500000</td>\n",
       "      <td>6.171808e+03</td>\n",
       "      <td>6.211142e+05</td>\n",
       "      <td>5.520000e+05</td>\n",
       "    </tr>\n",
       "    <tr>\n",
       "      <th>75%</th>\n",
       "      <td>1992.000000</td>\n",
       "      <td>6.092860e+04</td>\n",
       "      <td>6.000000e+06</td>\n",
       "      <td>3.300000e+06</td>\n",
       "    </tr>\n",
       "    <tr>\n",
       "      <th>max</th>\n",
       "      <td>2023.000000</td>\n",
       "      <td>8.315726e+07</td>\n",
       "      <td>3.325574e+09</td>\n",
       "      <td>1.626664e+09</td>\n",
       "    </tr>\n",
       "  </tbody>\n",
       "</table>\n",
       "</div>"
      ],
      "text/plain": [
       "               Year  Land use: Built-up area  Land use: Grazingland  \\\n",
       "count  26838.000000             2.683800e+04           2.683800e+04   \n",
       "mean    1199.214286             4.351732e+05           3.283303e+07   \n",
       "std     2170.821832             2.989501e+06           1.912350e+08   \n",
       "min   -10000.000000             0.000000e+00           0.000000e+00   \n",
       "25%     1740.000000             1.074408e+02           5.721447e+03   \n",
       "50%     1960.500000             6.171808e+03           6.211142e+05   \n",
       "75%     1992.000000             6.092860e+04           6.000000e+06   \n",
       "max     2023.000000             8.315726e+07           3.325574e+09   \n",
       "\n",
       "       Land use: Cropland  \n",
       "count        2.683800e+04  \n",
       "mean         1.566238e+07  \n",
       "std          9.022547e+07  \n",
       "min          0.000000e+00  \n",
       "25%          1.642382e+04  \n",
       "50%          5.520000e+05  \n",
       "75%          3.300000e+06  \n",
       "max          1.626664e+09  "
      ]
     },
     "execution_count": 29,
     "metadata": {},
     "output_type": "execute_result"
    }
   ],
   "source": [
    "Land_Usage.describe()"
   ]
  },
  {
   "cell_type": "code",
   "execution_count": 30,
   "id": "d309733c-980c-42d7-940e-aaa8cf1617a1",
   "metadata": {},
   "outputs": [
    {
     "data": {
      "text/plain": [
       "Entity                        0\n",
       "Code                       1134\n",
       "Year                          0\n",
       "Land use: Built-up area       0\n",
       "Land use: Grazingland         0\n",
       "Land use: Cropland            0\n",
       "dtype: int64"
      ]
     },
     "execution_count": 30,
     "metadata": {},
     "output_type": "execute_result"
    }
   ],
   "source": [
    "Land_Usage.isnull().sum()"
   ]
  },
  {
   "cell_type": "markdown",
   "id": "640f5e54-d72f-4208-a579-17f3c81ab500",
   "metadata": {},
   "source": [
    "### <center> Data Stiching </center> ###"
   ]
  },
  {
   "cell_type": "markdown",
   "id": "038939a6-a1af-42aa-9d1a-9b2665d64659",
   "metadata": {},
   "source": [
    "For this part we need to shorten the amount of csv's we have in play and transform the data into something more useful and easier to use. For now we have 2 obvious data sets that can be combined:\n",
    "\n",
    "Emissions per capita:\n",
    "- GHG\n",
    "- CO2\n",
    "- Methane\n",
    "- Nitrous Oxide\n",
    "\n",
    "GDP per capita:\n",
    "- Penn dataset\n",
    "- World Bank dataset\n",
    "- Maddison dataset\n",
    "\n",
    "While emission are conglomerating 4 different gasses into a singular data set, GDP per capita will be focused on using all 3 datasets to form a unified data set to fill in any missing data values for any countries along any continous timeframe of our choosing.\n",
    "\n",
    "From here we will use 1950 to 2023 as our focus and compare the data integrity to 1990 to 2019. The reason why 1950 is because the vast majority of our data begins from 1950, especially from the Economic side in particular, and ends between 2020-2024. Now using the data set with the most recent cut off (2019, Penn GDPPC) and the data set with the earliest cut off (1990, World Bank GDPPC) we obtain that range of a min max values for timeframe. "
   ]
  },
  {
   "cell_type": "markdown",
   "id": "21a2850a-ca1d-4090-a963-8f9bbf901a83",
   "metadata": {},
   "source": [
    "##### <center> Emissions Data Stiching </center> #####"
   ]
  },
  {
   "cell_type": "code",
   "execution_count": 31,
   "id": "a0219ede-d5d4-4be8-8869-7f4ee7ec9763",
   "metadata": {},
   "outputs": [],
   "source": [
    "GHG = GHG_per_capita.drop('Code', axis = 1)\n",
    "CO2 = CO2_Emissions_per_capita.drop('Code', axis = 1)\n",
    "Methane = methane_per_capita.drop('Code', axis = 1)\n",
    "NO = nitrous_oxide_per_capita.drop('Code', axis = 1)"
   ]
  },
  {
   "cell_type": "code",
   "execution_count": 32,
   "id": "82502dad-9c05-428d-a0a7-c03259018ad1",
   "metadata": {},
   "outputs": [
    {
     "data": {
      "text/html": [
       "<div>\n",
       "<style scoped>\n",
       "    .dataframe tbody tr th:only-of-type {\n",
       "        vertical-align: middle;\n",
       "    }\n",
       "\n",
       "    .dataframe tbody tr th {\n",
       "        vertical-align: top;\n",
       "    }\n",
       "\n",
       "    .dataframe thead th {\n",
       "        text-align: right;\n",
       "    }\n",
       "</style>\n",
       "<table border=\"1\" class=\"dataframe\">\n",
       "  <thead>\n",
       "    <tr style=\"text-align: right;\">\n",
       "      <th></th>\n",
       "      <th>Entity</th>\n",
       "      <th>Year</th>\n",
       "      <th>Per-capita greenhouse gas emissions in CO₂ equivalents</th>\n",
       "    </tr>\n",
       "  </thead>\n",
       "  <tbody>\n",
       "    <tr>\n",
       "      <th>0</th>\n",
       "      <td>Afghanistan</td>\n",
       "      <td>1850</td>\n",
       "      <td>1.955458</td>\n",
       "    </tr>\n",
       "    <tr>\n",
       "      <th>1</th>\n",
       "      <td>Afghanistan</td>\n",
       "      <td>1851</td>\n",
       "      <td>1.964986</td>\n",
       "    </tr>\n",
       "    <tr>\n",
       "      <th>2</th>\n",
       "      <td>Afghanistan</td>\n",
       "      <td>1852</td>\n",
       "      <td>1.972589</td>\n",
       "    </tr>\n",
       "    <tr>\n",
       "      <th>3</th>\n",
       "      <td>Afghanistan</td>\n",
       "      <td>1853</td>\n",
       "      <td>1.979090</td>\n",
       "    </tr>\n",
       "    <tr>\n",
       "      <th>4</th>\n",
       "      <td>Afghanistan</td>\n",
       "      <td>1854</td>\n",
       "      <td>1.985106</td>\n",
       "    </tr>\n",
       "    <tr>\n",
       "      <th>...</th>\n",
       "      <td>...</td>\n",
       "      <td>...</td>\n",
       "      <td>...</td>\n",
       "    </tr>\n",
       "    <tr>\n",
       "      <th>35606</th>\n",
       "      <td>Zimbabwe</td>\n",
       "      <td>2018</td>\n",
       "      <td>2.514450</td>\n",
       "    </tr>\n",
       "    <tr>\n",
       "      <th>35607</th>\n",
       "      <td>Zimbabwe</td>\n",
       "      <td>2019</td>\n",
       "      <td>2.367454</td>\n",
       "    </tr>\n",
       "    <tr>\n",
       "      <th>35608</th>\n",
       "      <td>Zimbabwe</td>\n",
       "      <td>2020</td>\n",
       "      <td>2.111153</td>\n",
       "    </tr>\n",
       "    <tr>\n",
       "      <th>35609</th>\n",
       "      <td>Zimbabwe</td>\n",
       "      <td>2021</td>\n",
       "      <td>2.118933</td>\n",
       "    </tr>\n",
       "    <tr>\n",
       "      <th>35610</th>\n",
       "      <td>Zimbabwe</td>\n",
       "      <td>2022</td>\n",
       "      <td>2.103673</td>\n",
       "    </tr>\n",
       "  </tbody>\n",
       "</table>\n",
       "<p>35611 rows × 3 columns</p>\n",
       "</div>"
      ],
      "text/plain": [
       "            Entity  Year  \\\n",
       "0      Afghanistan  1850   \n",
       "1      Afghanistan  1851   \n",
       "2      Afghanistan  1852   \n",
       "3      Afghanistan  1853   \n",
       "4      Afghanistan  1854   \n",
       "...            ...   ...   \n",
       "35606     Zimbabwe  2018   \n",
       "35607     Zimbabwe  2019   \n",
       "35608     Zimbabwe  2020   \n",
       "35609     Zimbabwe  2021   \n",
       "35610     Zimbabwe  2022   \n",
       "\n",
       "       Per-capita greenhouse gas emissions in CO₂ equivalents  \n",
       "0                                               1.955458       \n",
       "1                                               1.964986       \n",
       "2                                               1.972589       \n",
       "3                                               1.979090       \n",
       "4                                               1.985106       \n",
       "...                                                  ...       \n",
       "35606                                           2.514450       \n",
       "35607                                           2.367454       \n",
       "35608                                           2.111153       \n",
       "35609                                           2.118933       \n",
       "35610                                           2.103673       \n",
       "\n",
       "[35611 rows x 3 columns]"
      ]
     },
     "execution_count": 32,
     "metadata": {},
     "output_type": "execute_result"
    }
   ],
   "source": [
    "GHG"
   ]
  },
  {
   "cell_type": "code",
   "execution_count": 33,
   "id": "f2b7720f-b1f5-4573-85d4-c56a2094628f",
   "metadata": {},
   "outputs": [
    {
     "data": {
      "text/html": [
       "<div>\n",
       "<style scoped>\n",
       "    .dataframe tbody tr th:only-of-type {\n",
       "        vertical-align: middle;\n",
       "    }\n",
       "\n",
       "    .dataframe tbody tr th {\n",
       "        vertical-align: top;\n",
       "    }\n",
       "\n",
       "    .dataframe thead th {\n",
       "        text-align: right;\n",
       "    }\n",
       "</style>\n",
       "<table border=\"1\" class=\"dataframe\">\n",
       "  <thead>\n",
       "    <tr style=\"text-align: right;\">\n",
       "      <th></th>\n",
       "      <th>Entity</th>\n",
       "      <th>Year</th>\n",
       "      <th>Annual CO₂ emissions (per capita)</th>\n",
       "    </tr>\n",
       "  </thead>\n",
       "  <tbody>\n",
       "    <tr>\n",
       "      <th>0</th>\n",
       "      <td>Afghanistan</td>\n",
       "      <td>1949</td>\n",
       "      <td>0.001992</td>\n",
       "    </tr>\n",
       "    <tr>\n",
       "      <th>1</th>\n",
       "      <td>Afghanistan</td>\n",
       "      <td>1950</td>\n",
       "      <td>0.011266</td>\n",
       "    </tr>\n",
       "    <tr>\n",
       "      <th>2</th>\n",
       "      <td>Afghanistan</td>\n",
       "      <td>1951</td>\n",
       "      <td>0.012098</td>\n",
       "    </tr>\n",
       "    <tr>\n",
       "      <th>3</th>\n",
       "      <td>Afghanistan</td>\n",
       "      <td>1952</td>\n",
       "      <td>0.011946</td>\n",
       "    </tr>\n",
       "    <tr>\n",
       "      <th>4</th>\n",
       "      <td>Afghanistan</td>\n",
       "      <td>1953</td>\n",
       "      <td>0.013685</td>\n",
       "    </tr>\n",
       "    <tr>\n",
       "      <th>...</th>\n",
       "      <td>...</td>\n",
       "      <td>...</td>\n",
       "      <td>...</td>\n",
       "    </tr>\n",
       "    <tr>\n",
       "      <th>26595</th>\n",
       "      <td>Zimbabwe</td>\n",
       "      <td>2018</td>\n",
       "      <td>0.711830</td>\n",
       "    </tr>\n",
       "    <tr>\n",
       "      <th>26596</th>\n",
       "      <td>Zimbabwe</td>\n",
       "      <td>2019</td>\n",
       "      <td>0.636645</td>\n",
       "    </tr>\n",
       "    <tr>\n",
       "      <th>26597</th>\n",
       "      <td>Zimbabwe</td>\n",
       "      <td>2020</td>\n",
       "      <td>0.500945</td>\n",
       "    </tr>\n",
       "    <tr>\n",
       "      <th>26598</th>\n",
       "      <td>Zimbabwe</td>\n",
       "      <td>2021</td>\n",
       "      <td>0.524972</td>\n",
       "    </tr>\n",
       "    <tr>\n",
       "      <th>26599</th>\n",
       "      <td>Zimbabwe</td>\n",
       "      <td>2022</td>\n",
       "      <td>0.542628</td>\n",
       "    </tr>\n",
       "  </tbody>\n",
       "</table>\n",
       "<p>26600 rows × 3 columns</p>\n",
       "</div>"
      ],
      "text/plain": [
       "            Entity  Year  Annual CO₂ emissions (per capita)\n",
       "0      Afghanistan  1949                           0.001992\n",
       "1      Afghanistan  1950                           0.011266\n",
       "2      Afghanistan  1951                           0.012098\n",
       "3      Afghanistan  1952                           0.011946\n",
       "4      Afghanistan  1953                           0.013685\n",
       "...            ...   ...                                ...\n",
       "26595     Zimbabwe  2018                           0.711830\n",
       "26596     Zimbabwe  2019                           0.636645\n",
       "26597     Zimbabwe  2020                           0.500945\n",
       "26598     Zimbabwe  2021                           0.524972\n",
       "26599     Zimbabwe  2022                           0.542628\n",
       "\n",
       "[26600 rows x 3 columns]"
      ]
     },
     "execution_count": 33,
     "metadata": {},
     "output_type": "execute_result"
    }
   ],
   "source": [
    "CO2"
   ]
  },
  {
   "cell_type": "code",
   "execution_count": 34,
   "id": "54365785-8ba0-4acb-adff-d4c97337c92f",
   "metadata": {},
   "outputs": [
    {
     "data": {
      "text/html": [
       "<div>\n",
       "<style scoped>\n",
       "    .dataframe tbody tr th:only-of-type {\n",
       "        vertical-align: middle;\n",
       "    }\n",
       "\n",
       "    .dataframe tbody tr th {\n",
       "        vertical-align: top;\n",
       "    }\n",
       "\n",
       "    .dataframe thead th {\n",
       "        text-align: right;\n",
       "    }\n",
       "</style>\n",
       "<table border=\"1\" class=\"dataframe\">\n",
       "  <thead>\n",
       "    <tr style=\"text-align: right;\">\n",
       "      <th></th>\n",
       "      <th>Entity</th>\n",
       "      <th>Year</th>\n",
       "      <th>Per-capita methane emissions in CO₂ equivalents</th>\n",
       "    </tr>\n",
       "  </thead>\n",
       "  <tbody>\n",
       "    <tr>\n",
       "      <th>0</th>\n",
       "      <td>Afghanistan</td>\n",
       "      <td>1850</td>\n",
       "      <td>0.957882</td>\n",
       "    </tr>\n",
       "    <tr>\n",
       "      <th>1</th>\n",
       "      <td>Afghanistan</td>\n",
       "      <td>1851</td>\n",
       "      <td>0.959442</td>\n",
       "    </tr>\n",
       "    <tr>\n",
       "      <th>2</th>\n",
       "      <td>Afghanistan</td>\n",
       "      <td>1852</td>\n",
       "      <td>0.960731</td>\n",
       "    </tr>\n",
       "    <tr>\n",
       "      <th>3</th>\n",
       "      <td>Afghanistan</td>\n",
       "      <td>1853</td>\n",
       "      <td>0.961749</td>\n",
       "    </tr>\n",
       "    <tr>\n",
       "      <th>4</th>\n",
       "      <td>Afghanistan</td>\n",
       "      <td>1854</td>\n",
       "      <td>0.962742</td>\n",
       "    </tr>\n",
       "    <tr>\n",
       "      <th>...</th>\n",
       "      <td>...</td>\n",
       "      <td>...</td>\n",
       "      <td>...</td>\n",
       "    </tr>\n",
       "    <tr>\n",
       "      <th>35606</th>\n",
       "      <td>Zimbabwe</td>\n",
       "      <td>2018</td>\n",
       "      <td>0.880588</td>\n",
       "    </tr>\n",
       "    <tr>\n",
       "      <th>35607</th>\n",
       "      <td>Zimbabwe</td>\n",
       "      <td>2019</td>\n",
       "      <td>0.834945</td>\n",
       "    </tr>\n",
       "    <tr>\n",
       "      <th>35608</th>\n",
       "      <td>Zimbabwe</td>\n",
       "      <td>2020</td>\n",
       "      <td>0.796047</td>\n",
       "    </tr>\n",
       "    <tr>\n",
       "      <th>35609</th>\n",
       "      <td>Zimbabwe</td>\n",
       "      <td>2021</td>\n",
       "      <td>0.804884</td>\n",
       "    </tr>\n",
       "    <tr>\n",
       "      <th>35610</th>\n",
       "      <td>Zimbabwe</td>\n",
       "      <td>2022</td>\n",
       "      <td>0.782405</td>\n",
       "    </tr>\n",
       "  </tbody>\n",
       "</table>\n",
       "<p>35611 rows × 3 columns</p>\n",
       "</div>"
      ],
      "text/plain": [
       "            Entity  Year  Per-capita methane emissions in CO₂ equivalents\n",
       "0      Afghanistan  1850                                         0.957882\n",
       "1      Afghanistan  1851                                         0.959442\n",
       "2      Afghanistan  1852                                         0.960731\n",
       "3      Afghanistan  1853                                         0.961749\n",
       "4      Afghanistan  1854                                         0.962742\n",
       "...            ...   ...                                              ...\n",
       "35606     Zimbabwe  2018                                         0.880588\n",
       "35607     Zimbabwe  2019                                         0.834945\n",
       "35608     Zimbabwe  2020                                         0.796047\n",
       "35609     Zimbabwe  2021                                         0.804884\n",
       "35610     Zimbabwe  2022                                         0.782405\n",
       "\n",
       "[35611 rows x 3 columns]"
      ]
     },
     "execution_count": 34,
     "metadata": {},
     "output_type": "execute_result"
    }
   ],
   "source": [
    "Methane"
   ]
  },
  {
   "cell_type": "code",
   "execution_count": 35,
   "id": "ede78255-c5da-4e07-bdd4-0b84119e67fe",
   "metadata": {},
   "outputs": [
    {
     "data": {
      "text/html": [
       "<div>\n",
       "<style scoped>\n",
       "    .dataframe tbody tr th:only-of-type {\n",
       "        vertical-align: middle;\n",
       "    }\n",
       "\n",
       "    .dataframe tbody tr th {\n",
       "        vertical-align: top;\n",
       "    }\n",
       "\n",
       "    .dataframe thead th {\n",
       "        text-align: right;\n",
       "    }\n",
       "</style>\n",
       "<table border=\"1\" class=\"dataframe\">\n",
       "  <thead>\n",
       "    <tr style=\"text-align: right;\">\n",
       "      <th></th>\n",
       "      <th>Entity</th>\n",
       "      <th>Year</th>\n",
       "      <th>Per-capita nitrous oxide emissions in CO₂ equivalents</th>\n",
       "    </tr>\n",
       "  </thead>\n",
       "  <tbody>\n",
       "    <tr>\n",
       "      <th>0</th>\n",
       "      <td>Afghanistan</td>\n",
       "      <td>1850</td>\n",
       "      <td>0.059421</td>\n",
       "    </tr>\n",
       "    <tr>\n",
       "      <th>1</th>\n",
       "      <td>Afghanistan</td>\n",
       "      <td>1851</td>\n",
       "      <td>0.060420</td>\n",
       "    </tr>\n",
       "    <tr>\n",
       "      <th>2</th>\n",
       "      <td>Afghanistan</td>\n",
       "      <td>1852</td>\n",
       "      <td>0.061362</td>\n",
       "    </tr>\n",
       "    <tr>\n",
       "      <th>3</th>\n",
       "      <td>Afghanistan</td>\n",
       "      <td>1853</td>\n",
       "      <td>0.062229</td>\n",
       "    </tr>\n",
       "    <tr>\n",
       "      <th>4</th>\n",
       "      <td>Afghanistan</td>\n",
       "      <td>1854</td>\n",
       "      <td>0.063016</td>\n",
       "    </tr>\n",
       "    <tr>\n",
       "      <th>...</th>\n",
       "      <td>...</td>\n",
       "      <td>...</td>\n",
       "      <td>...</td>\n",
       "    </tr>\n",
       "    <tr>\n",
       "      <th>36108</th>\n",
       "      <td>Zimbabwe</td>\n",
       "      <td>2018</td>\n",
       "      <td>0.347973</td>\n",
       "    </tr>\n",
       "    <tr>\n",
       "      <th>36109</th>\n",
       "      <td>Zimbabwe</td>\n",
       "      <td>2019</td>\n",
       "      <td>0.335376</td>\n",
       "    </tr>\n",
       "    <tr>\n",
       "      <th>36110</th>\n",
       "      <td>Zimbabwe</td>\n",
       "      <td>2020</td>\n",
       "      <td>0.299137</td>\n",
       "    </tr>\n",
       "    <tr>\n",
       "      <th>36111</th>\n",
       "      <td>Zimbabwe</td>\n",
       "      <td>2021</td>\n",
       "      <td>0.310525</td>\n",
       "    </tr>\n",
       "    <tr>\n",
       "      <th>36112</th>\n",
       "      <td>Zimbabwe</td>\n",
       "      <td>2022</td>\n",
       "      <td>0.303946</td>\n",
       "    </tr>\n",
       "  </tbody>\n",
       "</table>\n",
       "<p>36113 rows × 3 columns</p>\n",
       "</div>"
      ],
      "text/plain": [
       "            Entity  Year  \\\n",
       "0      Afghanistan  1850   \n",
       "1      Afghanistan  1851   \n",
       "2      Afghanistan  1852   \n",
       "3      Afghanistan  1853   \n",
       "4      Afghanistan  1854   \n",
       "...            ...   ...   \n",
       "36108     Zimbabwe  2018   \n",
       "36109     Zimbabwe  2019   \n",
       "36110     Zimbabwe  2020   \n",
       "36111     Zimbabwe  2021   \n",
       "36112     Zimbabwe  2022   \n",
       "\n",
       "       Per-capita nitrous oxide emissions in CO₂ equivalents  \n",
       "0                                               0.059421      \n",
       "1                                               0.060420      \n",
       "2                                               0.061362      \n",
       "3                                               0.062229      \n",
       "4                                               0.063016      \n",
       "...                                                  ...      \n",
       "36108                                           0.347973      \n",
       "36109                                           0.335376      \n",
       "36110                                           0.299137      \n",
       "36111                                           0.310525      \n",
       "36112                                           0.303946      \n",
       "\n",
       "[36113 rows x 3 columns]"
      ]
     },
     "execution_count": 35,
     "metadata": {},
     "output_type": "execute_result"
    }
   ],
   "source": [
    "NO"
   ]
  },
  {
   "cell_type": "code",
   "execution_count": 36,
   "id": "0c8d4e61-54ee-4cae-9387-09d1d720de39",
   "metadata": {},
   "outputs": [
    {
     "data": {
      "text/html": [
       "<div>\n",
       "<style scoped>\n",
       "    .dataframe tbody tr th:only-of-type {\n",
       "        vertical-align: middle;\n",
       "    }\n",
       "\n",
       "    .dataframe tbody tr th {\n",
       "        vertical-align: top;\n",
       "    }\n",
       "\n",
       "    .dataframe thead th {\n",
       "        text-align: right;\n",
       "    }\n",
       "</style>\n",
       "<table border=\"1\" class=\"dataframe\">\n",
       "  <thead>\n",
       "    <tr style=\"text-align: right;\">\n",
       "      <th></th>\n",
       "      <th>Country</th>\n",
       "      <th>Year</th>\n",
       "      <th>CO2_Emissions</th>\n",
       "      <th>Methane_Emissions</th>\n",
       "      <th>NO_Emissions</th>\n",
       "      <th>GHG_Emissions</th>\n",
       "    </tr>\n",
       "  </thead>\n",
       "  <tbody>\n",
       "    <tr>\n",
       "      <th>1</th>\n",
       "      <td>Afghanistan</td>\n",
       "      <td>1950</td>\n",
       "      <td>0.011266</td>\n",
       "      <td>1.082907</td>\n",
       "      <td>0.298213</td>\n",
       "      <td>2.536609</td>\n",
       "    </tr>\n",
       "    <tr>\n",
       "      <th>2</th>\n",
       "      <td>Afghanistan</td>\n",
       "      <td>1951</td>\n",
       "      <td>0.012098</td>\n",
       "      <td>1.087416</td>\n",
       "      <td>0.302712</td>\n",
       "      <td>2.631075</td>\n",
       "    </tr>\n",
       "    <tr>\n",
       "      <th>3</th>\n",
       "      <td>Afghanistan</td>\n",
       "      <td>1952</td>\n",
       "      <td>0.011946</td>\n",
       "      <td>1.092008</td>\n",
       "      <td>0.308477</td>\n",
       "      <td>2.698957</td>\n",
       "    </tr>\n",
       "    <tr>\n",
       "      <th>4</th>\n",
       "      <td>Afghanistan</td>\n",
       "      <td>1953</td>\n",
       "      <td>0.013685</td>\n",
       "      <td>1.098381</td>\n",
       "      <td>0.315116</td>\n",
       "      <td>2.779015</td>\n",
       "    </tr>\n",
       "    <tr>\n",
       "      <th>5</th>\n",
       "      <td>Afghanistan</td>\n",
       "      <td>1954</td>\n",
       "      <td>0.013511</td>\n",
       "      <td>1.105126</td>\n",
       "      <td>0.322037</td>\n",
       "      <td>2.827751</td>\n",
       "    </tr>\n",
       "  </tbody>\n",
       "</table>\n",
       "</div>"
      ],
      "text/plain": [
       "       Country  Year  CO2_Emissions  Methane_Emissions  NO_Emissions  \\\n",
       "1  Afghanistan  1950       0.011266           1.082907      0.298213   \n",
       "2  Afghanistan  1951       0.012098           1.087416      0.302712   \n",
       "3  Afghanistan  1952       0.011946           1.092008      0.308477   \n",
       "4  Afghanistan  1953       0.013685           1.098381      0.315116   \n",
       "5  Afghanistan  1954       0.013511           1.105126      0.322037   \n",
       "\n",
       "   GHG_Emissions  \n",
       "1       2.536609  \n",
       "2       2.631075  \n",
       "3       2.698957  \n",
       "4       2.779015  \n",
       "5       2.827751  "
      ]
     },
     "execution_count": 36,
     "metadata": {},
     "output_type": "execute_result"
    }
   ],
   "source": [
    "CO2.columns = ['Country', 'Year', 'CO2_Emissions']\n",
    "Methane.columns = ['Country', 'Year', 'Methane_Emissions']\n",
    "NO.columns = ['Country', 'Year', 'NO_Emissions']\n",
    "GHG.columns = ['Country', 'Year', 'GHG_Emissions']\n",
    "\n",
    "df_merged = CO2.merge(Methane, on=['Country', 'Year'], how='outer') \\\n",
    "               .merge(NO, on=['Country', 'Year'], how='outer') \\\n",
    "               .merge(GHG, on=['Country', 'Year'], how='outer')\n",
    "\n",
    "df_filteredA = df_merged[(df_merged['Year'] >= 1950) & (df_merged['Year'] <= 2023)]\n",
    "df_sortedA = df_filteredA.sort_values(by=['Country', 'Year'])\n",
    "df_sortedA.to_csv(\"EmissionsA.csv\", index=False)\n",
    "df_sortedA.head()"
   ]
  },
  {
   "cell_type": "code",
   "execution_count": 37,
   "id": "d878dd80-ab62-4c4f-bca0-af93b33a89f1",
   "metadata": {},
   "outputs": [
    {
     "data": {
      "text/html": [
       "<div>\n",
       "<style scoped>\n",
       "    .dataframe tbody tr th:only-of-type {\n",
       "        vertical-align: middle;\n",
       "    }\n",
       "\n",
       "    .dataframe tbody tr th {\n",
       "        vertical-align: top;\n",
       "    }\n",
       "\n",
       "    .dataframe thead th {\n",
       "        text-align: right;\n",
       "    }\n",
       "</style>\n",
       "<table border=\"1\" class=\"dataframe\">\n",
       "  <thead>\n",
       "    <tr style=\"text-align: right;\">\n",
       "      <th></th>\n",
       "      <th>Country</th>\n",
       "      <th>Year</th>\n",
       "      <th>CO2_Emissions</th>\n",
       "      <th>Methane_Emissions</th>\n",
       "      <th>NO_Emissions</th>\n",
       "      <th>GHG_Emissions</th>\n",
       "    </tr>\n",
       "  </thead>\n",
       "  <tbody>\n",
       "    <tr>\n",
       "      <th>41</th>\n",
       "      <td>Afghanistan</td>\n",
       "      <td>1990</td>\n",
       "      <td>0.189281</td>\n",
       "      <td>0.734951</td>\n",
       "      <td>0.244741</td>\n",
       "      <td>1.328669</td>\n",
       "    </tr>\n",
       "    <tr>\n",
       "      <th>42</th>\n",
       "      <td>Afghanistan</td>\n",
       "      <td>1991</td>\n",
       "      <td>0.178155</td>\n",
       "      <td>0.765694</td>\n",
       "      <td>0.250458</td>\n",
       "      <td>1.343513</td>\n",
       "    </tr>\n",
       "    <tr>\n",
       "      <th>43</th>\n",
       "      <td>Afghanistan</td>\n",
       "      <td>1992</td>\n",
       "      <td>0.122916</td>\n",
       "      <td>0.695284</td>\n",
       "      <td>0.218642</td>\n",
       "      <td>1.121112</td>\n",
       "    </tr>\n",
       "    <tr>\n",
       "      <th>44</th>\n",
       "      <td>Afghanistan</td>\n",
       "      <td>1993</td>\n",
       "      <td>0.106182</td>\n",
       "      <td>0.612839</td>\n",
       "      <td>0.190976</td>\n",
       "      <td>0.922130</td>\n",
       "    </tr>\n",
       "    <tr>\n",
       "      <th>45</th>\n",
       "      <td>Afghanistan</td>\n",
       "      <td>1994</td>\n",
       "      <td>0.094065</td>\n",
       "      <td>0.581214</td>\n",
       "      <td>0.163041</td>\n",
       "      <td>0.855011</td>\n",
       "    </tr>\n",
       "  </tbody>\n",
       "</table>\n",
       "</div>"
      ],
      "text/plain": [
       "        Country  Year  CO2_Emissions  Methane_Emissions  NO_Emissions  \\\n",
       "41  Afghanistan  1990       0.189281           0.734951      0.244741   \n",
       "42  Afghanistan  1991       0.178155           0.765694      0.250458   \n",
       "43  Afghanistan  1992       0.122916           0.695284      0.218642   \n",
       "44  Afghanistan  1993       0.106182           0.612839      0.190976   \n",
       "45  Afghanistan  1994       0.094065           0.581214      0.163041   \n",
       "\n",
       "    GHG_Emissions  \n",
       "41       1.328669  \n",
       "42       1.343513  \n",
       "43       1.121112  \n",
       "44       0.922130  \n",
       "45       0.855011  "
      ]
     },
     "execution_count": 37,
     "metadata": {},
     "output_type": "execute_result"
    }
   ],
   "source": [
    "df_filteredB = df_merged[(df_merged['Year'] >= 1990) & (df_merged['Year'] <= 2019)]\n",
    "df_sortedB = df_filteredB.sort_values(by=['Country', 'Year'])\n",
    "df_sortedB.to_csv(\"EmissionsB.csv\", index=False)\n",
    "df_sortedB.head()"
   ]
  },
  {
   "cell_type": "code",
   "execution_count": 38,
   "id": "56925b21-e818-4fe6-882b-461220a9d05f",
   "metadata": {},
   "outputs": [
    {
     "data": {
      "text/plain": [
       "231"
      ]
     },
     "execution_count": 38,
     "metadata": {},
     "output_type": "execute_result"
    }
   ],
   "source": [
    "EmissionsA = pd.read_csv(\"EmissionsA.csv\")\n",
    "EmissionsA['Country'].nunique()"
   ]
  },
  {
   "cell_type": "markdown",
   "id": "6f73b47c-1932-474d-8160-b080ce2c0530",
   "metadata": {},
   "source": [
    "Major problem, there are only 195 recognized countries by the UN. lets find out what this discrepancy is and why."
   ]
  },
  {
   "cell_type": "code",
   "execution_count": 39,
   "id": "4a58b421-c308-4ac2-8aa8-ba39c0502620",
   "metadata": {},
   "outputs": [],
   "source": [
    "continents = [\"Asia\", \"Africa\", \"Europe\", \"North America\", \"South America\", \"Oceania\"]\n",
    "pattern = '|'.join(continents)\n",
    "emissions_data_filtered = EmissionsA[~EmissionsA['Country'].str.contains(pattern, flags=re.IGNORECASE, regex=True)]"
   ]
  },
  {
   "cell_type": "code",
   "execution_count": 40,
   "id": "8a7fcafe-a703-4f1f-9980-c1a68eb7f74d",
   "metadata": {},
   "outputs": [
    {
     "data": {
      "text/plain": [
       "217"
      ]
     },
     "execution_count": 40,
     "metadata": {},
     "output_type": "execute_result"
    }
   ],
   "source": [
    "emissions_data_filtered['Country'].nunique()"
   ]
  },
  {
   "cell_type": "code",
   "execution_count": 41,
   "id": "7f721d29-fc02-4676-85c6-cb916d80c097",
   "metadata": {},
   "outputs": [
    {
     "data": {
      "text/plain": [
       "Country                 0\n",
       "Year                    0\n",
       "CO2_Emissions         613\n",
       "Methane_Emissions    1163\n",
       "NO_Emissions          798\n",
       "GHG_Emissions        1163\n",
       "dtype: int64"
      ]
     },
     "execution_count": 41,
     "metadata": {},
     "output_type": "execute_result"
    }
   ],
   "source": [
    "emissions_data_filtered.isna().sum()"
   ]
  },
  {
   "cell_type": "code",
   "execution_count": 42,
   "id": "3b29ad20-183a-4cea-8189-3b5351898125",
   "metadata": {},
   "outputs": [
    {
     "data": {
      "text/plain": [
       "Country              0\n",
       "Year                 0\n",
       "CO2_Emissions        0\n",
       "Methane_Emissions    0\n",
       "NO_Emissions         0\n",
       "GHG_Emissions        0\n",
       "dtype: int64"
      ]
     },
     "execution_count": 42,
     "metadata": {},
     "output_type": "execute_result"
    }
   ],
   "source": [
    "emissions_data_filtered = emissions_data_filtered.fillna(0)\n",
    "emissions_data_filtered.isna().sum()"
   ]
  },
  {
   "cell_type": "code",
   "execution_count": 43,
   "id": "83682aec-de95-4be3-b6c5-094d2a1bdc5d",
   "metadata": {},
   "outputs": [
    {
     "data": {
      "image/png": "[encoded data removed]",
      "text/plain": [
       "<Figure size 1000x600 with 1 Axes>"
      ]
     },
     "metadata": {},
     "output_type": "display_data"
    },
    {
     "data": {
      "image/png": "[encoded data removed]",
      "text/plain": [
       "<Figure size 800x600 with 1 Axes>"
      ]
     },
     "metadata": {},
     "output_type": "display_data"
    },
    {
     "data": {
      "image/png": "[encoded data removed]",
      "text/plain": [
       "<Figure size 800x600 with 1 Axes>"
      ]
     },
     "metadata": {},
     "output_type": "display_data"
    }
   ],
   "source": [
    "global_trends = emissions_data_filtered.groupby('Year')[['CO2_Emissions', 'Methane_Emissions', 'NO_Emissions']].sum()\n",
    "\n",
    "# Plotting global emissions trends for each gas type\n",
    "plt.figure(figsize=(10, 6))\n",
    "plt.plot(global_trends.index, global_trends['CO2_Emissions'], label='CO2 Emissions')\n",
    "plt.plot(global_trends.index, global_trends['Methane_Emissions'], label='Methane Emissions')\n",
    "plt.plot(global_trends.index, global_trends['NO_Emissions'], label='NO Emissions')\n",
    "plt.title(\"Global Emissions Trends Over Time per Capita\")\n",
    "plt.xlabel(\"Year\")\n",
    "plt.ylabel(\"Total Emissions\")\n",
    "plt.legend()\n",
    "plt.show()\n",
    "\n",
    "# CO2 vs Methane Emissions\n",
    "plt.figure(figsize=(8, 6))\n",
    "plt.scatter(emissions_data_filtered['CO2_Emissions'], emissions_data_filtered['Methane_Emissions'], alpha=0.5)\n",
    "plt.title(\"CO2 vs Methane Emissions Globally per Capita\")\n",
    "plt.xlabel(\"CO2 Emissions\")\n",
    "plt.ylabel(\"Methane Emissions\")\n",
    "plt.show()\n",
    "\n",
    "# CO2 vs NO Emissions\n",
    "plt.figure(figsize=(8, 6))\n",
    "plt.scatter(emissions_data_filtered['CO2_Emissions'], emissions_data_filtered['NO_Emissions'], alpha=0.5)\n",
    "plt.title(\"CO2 vs NO Emissions Globally Per Capita\")\n",
    "plt.xlabel(\"CO2 Emissions\")\n",
    "plt.ylabel(\"NO Emissions\")\n",
    "plt.show()"
   ]
  },
  {
   "cell_type": "code",
   "execution_count": 44,
   "id": "92fb6e8a-3a50-4ee8-9df5-d37eed665c49",
   "metadata": {},
   "outputs": [
    {
     "data": {
      "image/png": "[encoded data removed]",
      "text/plain": [
       "<Figure size 1000x600 with 1 Axes>"
      ]
     },
     "metadata": {},
     "output_type": "display_data"
    },
    {
     "data": {
      "image/png": "[encoded data removed]",
      "text/plain": [
       "<Figure size 1000x600 with 1 Axes>"
      ]
     },
     "metadata": {},
     "output_type": "display_data"
    },
    {
     "data": {
      "image/png": "[encoded data removed]",
      "text/plain": [
       "<Figure size 1000x600 with 1 Axes>"
      ]
     },
     "metadata": {},
     "output_type": "display_data"
    },
    {
     "data": {
      "image/png": "[encoded data removed]",
      "text/plain": [
       "<Figure size 1000x600 with 1 Axes>"
      ]
     },
     "metadata": {},
     "output_type": "display_data"
    }
   ],
   "source": [
    "country_emissions = emissions_data_filtered.groupby('Country')[['CO2_Emissions', 'Methane_Emissions', 'NO_Emissions', 'GHG_Emissions']].sum()\n",
    "\n",
    "# Identify the top 10 countries with the highest emissions for each emission type\n",
    "top_co2_emitters = country_emissions['CO2_Emissions'].nlargest(10)\n",
    "top_methane_emitters = country_emissions['Methane_Emissions'].nlargest(10)\n",
    "top_no_emitters = country_emissions['NO_Emissions'].nlargest(10)\n",
    "top_ghg_emitters = country_emissions['GHG_Emissions'].nlargest(10)\n",
    "\n",
    "# CO2 Emissions\n",
    "plt.figure(figsize=(10, 6))\n",
    "top_co2_emitters.plot(kind='bar')\n",
    "plt.title(\"Top 10 Countries with Highest CO2 Emissions per Capita\")\n",
    "plt.xlabel(\"Country\")\n",
    "plt.ylabel(\"Total CO2 Emissions\")\n",
    "plt.xticks(rotation=45)\n",
    "plt.show()\n",
    "\n",
    "# Methane Emissions\n",
    "plt.figure(figsize=(10, 6))\n",
    "top_methane_emitters.plot(kind='bar')\n",
    "plt.title(\"Top 10 Countries with Highest Methane Emissions per Capita\")\n",
    "plt.xlabel(\"Country\")\n",
    "plt.ylabel(\"Total Methane Emissions\")\n",
    "plt.xticks(rotation=45)\n",
    "plt.show()\n",
    "\n",
    "# NO Emissions\n",
    "plt.figure(figsize=(10, 6))\n",
    "top_no_emitters.plot(kind='bar')\n",
    "plt.title(\"Top 10 Countries with Highest NO Emissions per Capita\")\n",
    "plt.xlabel(\"Country\")\n",
    "plt.ylabel(\"Total NO Emissions\")\n",
    "plt.xticks(rotation=45)\n",
    "plt.show()\n",
    "\n",
    "# GHG Emissions\n",
    "plt.figure(figsize=(10, 6))\n",
    "top_ghg_emitters.plot(kind='bar')\n",
    "plt.title(\"Top 10 Countries with Highest GHG Emissions per Capita\")\n",
    "plt.xlabel(\"Country\")\n",
    "plt.ylabel(\"Total GHG Emissions\")\n",
    "plt.xticks(rotation=45)\n",
    "plt.show()\n"
   ]
  },
  {
   "cell_type": "code",
   "execution_count": 45,
   "id": "13e344ba-6cc9-4b8f-90f9-afcf95f5e98c",
   "metadata": {},
   "outputs": [],
   "source": [
    "emissions_data_filtered.to_csv(\"EmissionsAFinalFix.csv\", index=False)"
   ]
  },
  {
   "cell_type": "code",
   "execution_count": null,
   "id": "a7250d58-b0c9-4fa1-88f0-9736dbd8f4af",
   "metadata": {},
   "outputs": [],
   "source": []
  },
  {
   "cell_type": "code",
   "execution_count": null,
   "id": "6a724ad5-6025-4548-9119-1ca46899b774",
   "metadata": {},
   "outputs": [],
   "source": []
  },
  {
   "cell_type": "code",
   "execution_count": null,
   "id": "2fc1c0b3-b06e-427f-9c6d-cb64b57deb20",
   "metadata": {},
   "outputs": [],
   "source": []
  },
  {
   "cell_type": "code",
   "execution_count": null,
   "id": "451c0a32-304a-483c-8b33-a27447d8c0e2",
   "metadata": {},
   "outputs": [],
   "source": []
  },
  {
   "cell_type": "code",
   "execution_count": null,
   "id": "8dee3a13-4331-4b3c-9fb0-53bb068aaad8",
   "metadata": {},
   "outputs": [],
   "source": []
  },
  {
   "cell_type": "code",
   "execution_count": null,
   "id": "1b67bf73-45f3-4bb1-84b2-85fd4a8f1001",
   "metadata": {},
   "outputs": [],
   "source": []
  },
  {
   "cell_type": "code",
   "execution_count": null,
   "id": "0a757ff0-cdb4-444e-a9ad-6b9fa529c1e8",
   "metadata": {},
   "outputs": [],
   "source": []
  },
  {
   "cell_type": "code",
   "execution_count": null,
   "id": "cbd96a31-c21b-466e-afc8-7e4536a78ae2",
   "metadata": {},
   "outputs": [],
   "source": []
  },
  {
   "cell_type": "code",
   "execution_count": null,
   "id": "a7cc97a2-1c9a-4508-bdd6-6bea7942ec0b",
   "metadata": {},
   "outputs": [],
   "source": []
  },
  {
   "cell_type": "markdown",
   "id": "5a44cae7",
   "metadata": {},
   "source": [
    "### <center>Citations & References</center> ###"
   ]
  },
  {
   "cell_type": "markdown",
   "id": "6b9ae551",
   "metadata": {},
   "source": [
    "<center>Global Carbon Budget (2023); Population based on various sources (2023) – with major processing by Our World in Data. “Annual CO₂ emissions (per capita) – GCB” [dataset]. Global Carbon Project, “Global Carbon Budget”; Various sources, “Population” [original data].</center> \n",
    "<br><br>\n",
    "<center>Jones et al. (2024); Population based on various sources (2023) – with major processing by Our World in Data. “Per-capita greenhouse gas emissions” [dataset]. Jones et al., “National contributions to climate change 2024.1”; Various sources, “Population” [original data].</center>\n",
    "<br><br>\n",
    "<center>Jones et al. (2024); Population based on various sources (2023) – with major processing by Our World in Data. “Per-capita methane emissions” [dataset]. Jones et al., “National contributions to climate change 2024.1”; Various sources, “Population” [original data].</center>\n",
    "<br><br>\n",
    "<center>Jones et al. (2024); Population based on various sources (2023) – with major processing by Our World in Data. “Per-capita nitrous oxide emissions” [dataset]. Jones et al., “National contributions to climate change 2024.1”; Various sources, “Population” [original data].</center>\n",
    "<br><br>\n",
    "<center>Jones et al. (2024) – with major processing by Our World in Data. “Change in global mean surface temperature caused by greenhouse gas emissions from fossil fuels and industry” [dataset]. Jones et al., “National contributions to climate change 2024.1” [original data].</center>\n",
    "<br><br>\n",
    "<center>Global Carbon Budget (2023) – with major processing by Our World in Data. “Annual CO₂ emissions – GCB” [dataset]. Global Carbon Project, “Global Carbon Budget” [original data].</center>\n",
    "<br><br>\n",
    "<center>United States Department for Agriculture (USDA) Economic Research Service – processed by Our World in Data. “Agricultural output” [dataset]. United States Department for Agriculture (USDA) Economic Research Service [original data].</center>\n",
    "<br><br>\n",
    "<center>HYDE (2023) – with minor processing by Our World in Data. “Built-up Area” [dataset]. PBL Netherlands Environmental Assessment Agency, “History Database of the Global Environment 3.3” [original data].</center>\n",
    "<br><br>\n",
    "<center>HYDE (2023) – with minor processing by Our World in Data. “Land use: Agriculture” [dataset]. PBL Netherlands Environmental Assessment Agency, “History Database of the Global Environment 3.3” [original data].</center>\n",
    "<br><br>\n",
    "<center>HYDE (2023) – with minor processing by Our World in Data. “Land use: Cropland” [dataset]. PBL Netherlands Environmental Assessment Agency, “History Database of the Global Environment 3.3” [original data].</center>\n",
    "<br><br>\n",
    "<center>HYDE (2023) – with minor processing by Our World in Data. “Land use: Grazingland” [dataset]. PBL Netherlands Environmental Assessment Agency, “History Database of the Global Environment 3.3” [original data].</center>\n",
    "<br><br>\n",
    "<center>**Contains modified Copernicus Climate Change Service information (2019) – with major processing by Our World in Data. “Temperature anomaly” [dataset]. Contains modified Copernicus Climate Change Service information, “ERA5 monthly averaged data on single levels from 1940 to present 2” [original data].**</center>\n",
    "<br><br>\n",
    "<center>**Jones et al. (2024) – with major processing by Our World in Data. “Change in global mean surface temperature caused by CO₂ emissions from agriculture and land use” [dataset]. Jones et al., “National contributions to climate change 2024.1” [original data].**</center>\n",
    "<br><br>\n",
    "<center>World Bank (2024) – with major processing by Our World in Data. “Number of high-income countries” [dataset]. World Bank, “Income Classifications” [original data].</center>\n",
    "<br><br>\n",
    "<center>Feenstra et al. (2015), Penn World Table (2021) – with major processing by Our World in Data. “GDP per capita – Penn World Table” [dataset]. Feenstra et al. (2015), Penn World Table (2021), “Penn World Table” [original data].</center>\n",
    "<br><br>\n",
    "<center>Feenstra et al. (2015), Penn World Table (2021) – with major processing by Our World in Data. “GDP” [dataset]. Feenstra et al. (2015), Penn World Table (2021), “Penn World Table” [original data].**</center> \n",
    "<br><br>\n",
    "<center>World Bank (2023) – with minor processing by Our World in Data. “Gross domestic product (GDP) – World Bank” [dataset]. World Bank, “World Bank World Development Indicators” [original data].</center>\n",
    "<br><br>\n",
    "<center>World Bank (2023) – with minor processing by Our World in Data. “GDP per capita – World Bank – In constant 2017 international $” [dataset]. World Bank, “World Bank World Development Indicators” [original data].</center>\n",
    "<br><br>\n",
    "<center>Bolt and van Zanden - Maddison Project Database 2023 – with minor processing by Our World in Data. “GDP per capita – Maddison Project Database – Historical data” [dataset]. Bolt and van Zanden, “Maddison Project Database 2023” [original data].</center>\n",
    "<br><br>\n",
    "<center>UN, World Population Prospects (2024) – processed by Our World in Data. “Population, total\n",
    " – UN WPP” [dataset]. United Nations, “World Population Prospects” [original data].</center>\n",
    "<br><br>\n",
    "<center></center>\n",
    "<br><br>\n",
    "<center></center>\n",
    "<br><br>\n",
    "<center></center>\n",
    "<br><br>\n",
    "<center></center>\n",
    "<br><br>\n",
    "<center></center>\n",
    "<br><br>"
   ]
  },
  {
   "cell_type": "markdown",
   "id": "74d97a69",
   "metadata": {},
   "source": []
  }
 ],
 "metadata": {
  "kernelspec": {
   "display_name": "Python 3 (ipykernel)",
   "language": "python",
   "name": "python3"
  },
  "language_info": {
   "codemirror_mode": {
    "name": "ipython",
    "version": 3
   },
   "file_extension": ".py",
   "mimetype": "text/x-python",
   "name": "python",
   "nbconvert_exporter": "python",
   "pygments_lexer": "ipython3",
   "version": "3.8.10"
  }
 },
 "nbformat": 4,
 "nbformat_minor": 5
}
